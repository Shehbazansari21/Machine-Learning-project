{
 "cells": [
  {
   "cell_type": "code",
   "execution_count": 1,
   "id": "d3e8b82c",
   "metadata": {},
   "outputs": [],
   "source": [
    "#import library\n",
    "import pandas as pd\n",
    "import numpy as np\n",
    "import seaborn as sns\n",
    "import matplotlib.pyplot as plt\n",
    "import warnings\n",
    "warnings.filterwarnings('ignore')"
   ]
  },
  {
   "cell_type": "markdown",
   "id": "1e52c2a2",
   "metadata": {},
   "source": [
    "# Information on dataset:"
   ]
  },
  {
   "cell_type": "markdown",
   "id": "97fa1b40",
   "metadata": {},
   "source": [
    "The dataset contains records from both ischemic and hemorrhagic strokes. The criteria used to define a stroke was that a stroke occurs when a blood vessel that carries oxygen and nutrients to the brain is either blocked (ischemic) by a clot or bursts (hemorrhagic)."
   ]
  },
  {
   "cell_type": "code",
   "execution_count": 2,
   "id": "7f6d2caf",
   "metadata": {},
   "outputs": [
    {
     "data": {
      "text/html": [
       "<div>\n",
       "<style scoped>\n",
       "    .dataframe tbody tr th:only-of-type {\n",
       "        vertical-align: middle;\n",
       "    }\n",
       "\n",
       "    .dataframe tbody tr th {\n",
       "        vertical-align: top;\n",
       "    }\n",
       "\n",
       "    .dataframe thead th {\n",
       "        text-align: right;\n",
       "    }\n",
       "</style>\n",
       "<table border=\"1\" class=\"dataframe\">\n",
       "  <thead>\n",
       "    <tr style=\"text-align: right;\">\n",
       "      <th></th>\n",
       "      <th>id</th>\n",
       "      <th>gender</th>\n",
       "      <th>age</th>\n",
       "      <th>hypertension</th>\n",
       "      <th>heart_disease</th>\n",
       "      <th>ever_married</th>\n",
       "      <th>work_type</th>\n",
       "      <th>Residence_type</th>\n",
       "      <th>avg_glucose_level</th>\n",
       "      <th>bmi</th>\n",
       "      <th>smoking_status</th>\n",
       "      <th>stroke</th>\n",
       "    </tr>\n",
       "  </thead>\n",
       "  <tbody>\n",
       "    <tr>\n",
       "      <th>0</th>\n",
       "      <td>9046</td>\n",
       "      <td>Male</td>\n",
       "      <td>67.0</td>\n",
       "      <td>0</td>\n",
       "      <td>1</td>\n",
       "      <td>Yes</td>\n",
       "      <td>Private</td>\n",
       "      <td>Urban</td>\n",
       "      <td>228.69</td>\n",
       "      <td>36.6</td>\n",
       "      <td>formerly smoked</td>\n",
       "      <td>1</td>\n",
       "    </tr>\n",
       "    <tr>\n",
       "      <th>1</th>\n",
       "      <td>51676</td>\n",
       "      <td>Female</td>\n",
       "      <td>61.0</td>\n",
       "      <td>0</td>\n",
       "      <td>0</td>\n",
       "      <td>Yes</td>\n",
       "      <td>Self-employed</td>\n",
       "      <td>Rural</td>\n",
       "      <td>202.21</td>\n",
       "      <td>NaN</td>\n",
       "      <td>never smoked</td>\n",
       "      <td>1</td>\n",
       "    </tr>\n",
       "    <tr>\n",
       "      <th>2</th>\n",
       "      <td>31112</td>\n",
       "      <td>Male</td>\n",
       "      <td>80.0</td>\n",
       "      <td>0</td>\n",
       "      <td>1</td>\n",
       "      <td>Yes</td>\n",
       "      <td>Private</td>\n",
       "      <td>Rural</td>\n",
       "      <td>105.92</td>\n",
       "      <td>32.5</td>\n",
       "      <td>never smoked</td>\n",
       "      <td>1</td>\n",
       "    </tr>\n",
       "    <tr>\n",
       "      <th>3</th>\n",
       "      <td>60182</td>\n",
       "      <td>Female</td>\n",
       "      <td>49.0</td>\n",
       "      <td>0</td>\n",
       "      <td>0</td>\n",
       "      <td>Yes</td>\n",
       "      <td>Private</td>\n",
       "      <td>Urban</td>\n",
       "      <td>171.23</td>\n",
       "      <td>34.4</td>\n",
       "      <td>smokes</td>\n",
       "      <td>1</td>\n",
       "    </tr>\n",
       "    <tr>\n",
       "      <th>4</th>\n",
       "      <td>1665</td>\n",
       "      <td>Female</td>\n",
       "      <td>79.0</td>\n",
       "      <td>1</td>\n",
       "      <td>0</td>\n",
       "      <td>Yes</td>\n",
       "      <td>Self-employed</td>\n",
       "      <td>Rural</td>\n",
       "      <td>174.12</td>\n",
       "      <td>24.0</td>\n",
       "      <td>never smoked</td>\n",
       "      <td>1</td>\n",
       "    </tr>\n",
       "    <tr>\n",
       "      <th>...</th>\n",
       "      <td>...</td>\n",
       "      <td>...</td>\n",
       "      <td>...</td>\n",
       "      <td>...</td>\n",
       "      <td>...</td>\n",
       "      <td>...</td>\n",
       "      <td>...</td>\n",
       "      <td>...</td>\n",
       "      <td>...</td>\n",
       "      <td>...</td>\n",
       "      <td>...</td>\n",
       "      <td>...</td>\n",
       "    </tr>\n",
       "    <tr>\n",
       "      <th>5105</th>\n",
       "      <td>18234</td>\n",
       "      <td>Female</td>\n",
       "      <td>80.0</td>\n",
       "      <td>1</td>\n",
       "      <td>0</td>\n",
       "      <td>Yes</td>\n",
       "      <td>Private</td>\n",
       "      <td>Urban</td>\n",
       "      <td>83.75</td>\n",
       "      <td>NaN</td>\n",
       "      <td>never smoked</td>\n",
       "      <td>0</td>\n",
       "    </tr>\n",
       "    <tr>\n",
       "      <th>5106</th>\n",
       "      <td>44873</td>\n",
       "      <td>Female</td>\n",
       "      <td>81.0</td>\n",
       "      <td>0</td>\n",
       "      <td>0</td>\n",
       "      <td>Yes</td>\n",
       "      <td>Self-employed</td>\n",
       "      <td>Urban</td>\n",
       "      <td>125.20</td>\n",
       "      <td>40.0</td>\n",
       "      <td>never smoked</td>\n",
       "      <td>0</td>\n",
       "    </tr>\n",
       "    <tr>\n",
       "      <th>5107</th>\n",
       "      <td>19723</td>\n",
       "      <td>Female</td>\n",
       "      <td>35.0</td>\n",
       "      <td>0</td>\n",
       "      <td>0</td>\n",
       "      <td>Yes</td>\n",
       "      <td>Self-employed</td>\n",
       "      <td>Rural</td>\n",
       "      <td>82.99</td>\n",
       "      <td>30.6</td>\n",
       "      <td>never smoked</td>\n",
       "      <td>0</td>\n",
       "    </tr>\n",
       "    <tr>\n",
       "      <th>5108</th>\n",
       "      <td>37544</td>\n",
       "      <td>Male</td>\n",
       "      <td>51.0</td>\n",
       "      <td>0</td>\n",
       "      <td>0</td>\n",
       "      <td>Yes</td>\n",
       "      <td>Private</td>\n",
       "      <td>Rural</td>\n",
       "      <td>166.29</td>\n",
       "      <td>25.6</td>\n",
       "      <td>formerly smoked</td>\n",
       "      <td>0</td>\n",
       "    </tr>\n",
       "    <tr>\n",
       "      <th>5109</th>\n",
       "      <td>44679</td>\n",
       "      <td>Female</td>\n",
       "      <td>44.0</td>\n",
       "      <td>0</td>\n",
       "      <td>0</td>\n",
       "      <td>Yes</td>\n",
       "      <td>Govt_job</td>\n",
       "      <td>Urban</td>\n",
       "      <td>85.28</td>\n",
       "      <td>26.2</td>\n",
       "      <td>Unknown</td>\n",
       "      <td>0</td>\n",
       "    </tr>\n",
       "  </tbody>\n",
       "</table>\n",
       "<p>5110 rows × 12 columns</p>\n",
       "</div>"
      ],
      "text/plain": [
       "         id  gender   age  hypertension  heart_disease ever_married  \\\n",
       "0      9046    Male  67.0             0              1          Yes   \n",
       "1     51676  Female  61.0             0              0          Yes   \n",
       "2     31112    Male  80.0             0              1          Yes   \n",
       "3     60182  Female  49.0             0              0          Yes   \n",
       "4      1665  Female  79.0             1              0          Yes   \n",
       "...     ...     ...   ...           ...            ...          ...   \n",
       "5105  18234  Female  80.0             1              0          Yes   \n",
       "5106  44873  Female  81.0             0              0          Yes   \n",
       "5107  19723  Female  35.0             0              0          Yes   \n",
       "5108  37544    Male  51.0             0              0          Yes   \n",
       "5109  44679  Female  44.0             0              0          Yes   \n",
       "\n",
       "          work_type Residence_type  avg_glucose_level   bmi   smoking_status  \\\n",
       "0           Private          Urban             228.69  36.6  formerly smoked   \n",
       "1     Self-employed          Rural             202.21   NaN     never smoked   \n",
       "2           Private          Rural             105.92  32.5     never smoked   \n",
       "3           Private          Urban             171.23  34.4           smokes   \n",
       "4     Self-employed          Rural             174.12  24.0     never smoked   \n",
       "...             ...            ...                ...   ...              ...   \n",
       "5105        Private          Urban              83.75   NaN     never smoked   \n",
       "5106  Self-employed          Urban             125.20  40.0     never smoked   \n",
       "5107  Self-employed          Rural              82.99  30.6     never smoked   \n",
       "5108        Private          Rural             166.29  25.6  formerly smoked   \n",
       "5109       Govt_job          Urban              85.28  26.2          Unknown   \n",
       "\n",
       "      stroke  \n",
       "0          1  \n",
       "1          1  \n",
       "2          1  \n",
       "3          1  \n",
       "4          1  \n",
       "...      ...  \n",
       "5105       0  \n",
       "5106       0  \n",
       "5107       0  \n",
       "5108       0  \n",
       "5109       0  \n",
       "\n",
       "[5110 rows x 12 columns]"
      ]
     },
     "execution_count": 2,
     "metadata": {},
     "output_type": "execute_result"
    }
   ],
   "source": [
    "#load Dataset\n",
    "df=pd.read_csv('healthcare_stroke_data.csv')\n",
    "df"
   ]
  },
  {
   "cell_type": "code",
   "execution_count": 3,
   "id": "ef936c78",
   "metadata": {},
   "outputs": [
    {
     "data": {
      "text/plain": [
       "(5110, 12)"
      ]
     },
     "execution_count": 3,
     "metadata": {},
     "output_type": "execute_result"
    }
   ],
   "source": [
    "#shape of data\n",
    "df.shape"
   ]
  },
  {
   "cell_type": "code",
   "execution_count": 4,
   "id": "c56b9109",
   "metadata": {},
   "outputs": [
    {
     "data": {
      "text/plain": [
       "id                     0\n",
       "gender                 0\n",
       "age                    0\n",
       "hypertension           0\n",
       "heart_disease          0\n",
       "ever_married           0\n",
       "work_type              0\n",
       "Residence_type         0\n",
       "avg_glucose_level      0\n",
       "bmi                  201\n",
       "smoking_status         0\n",
       "stroke                 0\n",
       "dtype: int64"
      ]
     },
     "execution_count": 4,
     "metadata": {},
     "output_type": "execute_result"
    }
   ],
   "source": [
    "#check null value\n",
    "df.isnull().sum()"
   ]
  },
  {
   "cell_type": "code",
   "execution_count": 5,
   "id": "964ac557",
   "metadata": {},
   "outputs": [],
   "source": [
    "#as we can see id is not important to predict the data so first we will drop the id column\n",
    "df.drop('id',axis=1,inplace=True)"
   ]
  },
  {
   "cell_type": "code",
   "execution_count": 6,
   "id": "2ede8050",
   "metadata": {},
   "outputs": [
    {
     "data": {
      "text/html": [
       "<div>\n",
       "<style scoped>\n",
       "    .dataframe tbody tr th:only-of-type {\n",
       "        vertical-align: middle;\n",
       "    }\n",
       "\n",
       "    .dataframe tbody tr th {\n",
       "        vertical-align: top;\n",
       "    }\n",
       "\n",
       "    .dataframe thead th {\n",
       "        text-align: right;\n",
       "    }\n",
       "</style>\n",
       "<table border=\"1\" class=\"dataframe\">\n",
       "  <thead>\n",
       "    <tr style=\"text-align: right;\">\n",
       "      <th></th>\n",
       "      <th>gender</th>\n",
       "      <th>age</th>\n",
       "      <th>hypertension</th>\n",
       "      <th>heart_disease</th>\n",
       "      <th>ever_married</th>\n",
       "      <th>work_type</th>\n",
       "      <th>Residence_type</th>\n",
       "      <th>avg_glucose_level</th>\n",
       "      <th>bmi</th>\n",
       "      <th>smoking_status</th>\n",
       "      <th>stroke</th>\n",
       "    </tr>\n",
       "  </thead>\n",
       "  <tbody>\n",
       "    <tr>\n",
       "      <th>0</th>\n",
       "      <td>Male</td>\n",
       "      <td>67.0</td>\n",
       "      <td>0</td>\n",
       "      <td>1</td>\n",
       "      <td>Yes</td>\n",
       "      <td>Private</td>\n",
       "      <td>Urban</td>\n",
       "      <td>228.69</td>\n",
       "      <td>36.6</td>\n",
       "      <td>formerly smoked</td>\n",
       "      <td>1</td>\n",
       "    </tr>\n",
       "    <tr>\n",
       "      <th>1</th>\n",
       "      <td>Female</td>\n",
       "      <td>61.0</td>\n",
       "      <td>0</td>\n",
       "      <td>0</td>\n",
       "      <td>Yes</td>\n",
       "      <td>Self-employed</td>\n",
       "      <td>Rural</td>\n",
       "      <td>202.21</td>\n",
       "      <td>NaN</td>\n",
       "      <td>never smoked</td>\n",
       "      <td>1</td>\n",
       "    </tr>\n",
       "    <tr>\n",
       "      <th>2</th>\n",
       "      <td>Male</td>\n",
       "      <td>80.0</td>\n",
       "      <td>0</td>\n",
       "      <td>1</td>\n",
       "      <td>Yes</td>\n",
       "      <td>Private</td>\n",
       "      <td>Rural</td>\n",
       "      <td>105.92</td>\n",
       "      <td>32.5</td>\n",
       "      <td>never smoked</td>\n",
       "      <td>1</td>\n",
       "    </tr>\n",
       "    <tr>\n",
       "      <th>3</th>\n",
       "      <td>Female</td>\n",
       "      <td>49.0</td>\n",
       "      <td>0</td>\n",
       "      <td>0</td>\n",
       "      <td>Yes</td>\n",
       "      <td>Private</td>\n",
       "      <td>Urban</td>\n",
       "      <td>171.23</td>\n",
       "      <td>34.4</td>\n",
       "      <td>smokes</td>\n",
       "      <td>1</td>\n",
       "    </tr>\n",
       "    <tr>\n",
       "      <th>4</th>\n",
       "      <td>Female</td>\n",
       "      <td>79.0</td>\n",
       "      <td>1</td>\n",
       "      <td>0</td>\n",
       "      <td>Yes</td>\n",
       "      <td>Self-employed</td>\n",
       "      <td>Rural</td>\n",
       "      <td>174.12</td>\n",
       "      <td>24.0</td>\n",
       "      <td>never smoked</td>\n",
       "      <td>1</td>\n",
       "    </tr>\n",
       "  </tbody>\n",
       "</table>\n",
       "</div>"
      ],
      "text/plain": [
       "   gender   age  hypertension  heart_disease ever_married      work_type  \\\n",
       "0    Male  67.0             0              1          Yes        Private   \n",
       "1  Female  61.0             0              0          Yes  Self-employed   \n",
       "2    Male  80.0             0              1          Yes        Private   \n",
       "3  Female  49.0             0              0          Yes        Private   \n",
       "4  Female  79.0             1              0          Yes  Self-employed   \n",
       "\n",
       "  Residence_type  avg_glucose_level   bmi   smoking_status  stroke  \n",
       "0          Urban             228.69  36.6  formerly smoked       1  \n",
       "1          Rural             202.21   NaN     never smoked       1  \n",
       "2          Rural             105.92  32.5     never smoked       1  \n",
       "3          Urban             171.23  34.4           smokes       1  \n",
       "4          Rural             174.12  24.0     never smoked       1  "
      ]
     },
     "execution_count": 6,
     "metadata": {},
     "output_type": "execute_result"
    }
   ],
   "source": [
    "df.head(5)"
   ]
  },
  {
   "cell_type": "code",
   "execution_count": 7,
   "id": "ca206af7",
   "metadata": {},
   "outputs": [
    {
     "data": {
      "text/plain": [
       "gender                 0\n",
       "age                    0\n",
       "hypertension           0\n",
       "heart_disease          0\n",
       "ever_married           0\n",
       "work_type              0\n",
       "Residence_type         0\n",
       "avg_glucose_level      0\n",
       "bmi                  201\n",
       "smoking_status         0\n",
       "stroke                 0\n",
       "dtype: int64"
      ]
     },
     "execution_count": 7,
     "metadata": {},
     "output_type": "execute_result"
    }
   ],
   "source": [
    "#now we will handel the missing value\n",
    "df.isnull().sum()"
   ]
  },
  {
   "cell_type": "code",
   "execution_count": 8,
   "id": "709422f6",
   "metadata": {},
   "outputs": [
    {
     "data": {
      "text/plain": [
       "<AxesSubplot:>"
      ]
     },
     "execution_count": 8,
     "metadata": {},
     "output_type": "execute_result"
    },
    {
     "data": {
      "image/png": "[encoded data removed]",
      "text/plain": [
       "<Figure size 432x288 with 2 Axes>"
      ]
     },
     "metadata": {
      "needs_background": "light"
     },
     "output_type": "display_data"
    }
   ],
   "source": [
    "#now we will visualise the missing value\n",
    "sns.heatmap(df.isnull())"
   ]
  },
  {
   "cell_type": "code",
   "execution_count": 9,
   "id": "20dfa7a9",
   "metadata": {},
   "outputs": [
    {
     "name": "stdout",
     "output_type": "stream",
     "text": [
      "28.1\n"
     ]
    }
   ],
   "source": [
    "#filling null values with average/mean of bmi\n",
    "m=df['bmi'].median()\n",
    "print(m)\n",
    "df['bmi'].fillna(m,inplace=True)"
   ]
  },
  {
   "cell_type": "code",
   "execution_count": 10,
   "id": "cbb40986",
   "metadata": {},
   "outputs": [
    {
     "data": {
      "text/html": [
       "<div>\n",
       "<style scoped>\n",
       "    .dataframe tbody tr th:only-of-type {\n",
       "        vertical-align: middle;\n",
       "    }\n",
       "\n",
       "    .dataframe tbody tr th {\n",
       "        vertical-align: top;\n",
       "    }\n",
       "\n",
       "    .dataframe thead th {\n",
       "        text-align: right;\n",
       "    }\n",
       "</style>\n",
       "<table border=\"1\" class=\"dataframe\">\n",
       "  <thead>\n",
       "    <tr style=\"text-align: right;\">\n",
       "      <th></th>\n",
       "      <th>gender</th>\n",
       "      <th>age</th>\n",
       "      <th>hypertension</th>\n",
       "      <th>heart_disease</th>\n",
       "      <th>ever_married</th>\n",
       "      <th>work_type</th>\n",
       "      <th>Residence_type</th>\n",
       "      <th>avg_glucose_level</th>\n",
       "      <th>bmi</th>\n",
       "      <th>smoking_status</th>\n",
       "      <th>stroke</th>\n",
       "    </tr>\n",
       "  </thead>\n",
       "  <tbody>\n",
       "    <tr>\n",
       "      <th>0</th>\n",
       "      <td>Male</td>\n",
       "      <td>67.0</td>\n",
       "      <td>0</td>\n",
       "      <td>1</td>\n",
       "      <td>Yes</td>\n",
       "      <td>Private</td>\n",
       "      <td>Urban</td>\n",
       "      <td>228.69</td>\n",
       "      <td>36.6</td>\n",
       "      <td>formerly smoked</td>\n",
       "      <td>1</td>\n",
       "    </tr>\n",
       "    <tr>\n",
       "      <th>1</th>\n",
       "      <td>Female</td>\n",
       "      <td>61.0</td>\n",
       "      <td>0</td>\n",
       "      <td>0</td>\n",
       "      <td>Yes</td>\n",
       "      <td>Self-employed</td>\n",
       "      <td>Rural</td>\n",
       "      <td>202.21</td>\n",
       "      <td>28.1</td>\n",
       "      <td>never smoked</td>\n",
       "      <td>1</td>\n",
       "    </tr>\n",
       "    <tr>\n",
       "      <th>2</th>\n",
       "      <td>Male</td>\n",
       "      <td>80.0</td>\n",
       "      <td>0</td>\n",
       "      <td>1</td>\n",
       "      <td>Yes</td>\n",
       "      <td>Private</td>\n",
       "      <td>Rural</td>\n",
       "      <td>105.92</td>\n",
       "      <td>32.5</td>\n",
       "      <td>never smoked</td>\n",
       "      <td>1</td>\n",
       "    </tr>\n",
       "    <tr>\n",
       "      <th>3</th>\n",
       "      <td>Female</td>\n",
       "      <td>49.0</td>\n",
       "      <td>0</td>\n",
       "      <td>0</td>\n",
       "      <td>Yes</td>\n",
       "      <td>Private</td>\n",
       "      <td>Urban</td>\n",
       "      <td>171.23</td>\n",
       "      <td>34.4</td>\n",
       "      <td>smokes</td>\n",
       "      <td>1</td>\n",
       "    </tr>\n",
       "    <tr>\n",
       "      <th>4</th>\n",
       "      <td>Female</td>\n",
       "      <td>79.0</td>\n",
       "      <td>1</td>\n",
       "      <td>0</td>\n",
       "      <td>Yes</td>\n",
       "      <td>Self-employed</td>\n",
       "      <td>Rural</td>\n",
       "      <td>174.12</td>\n",
       "      <td>24.0</td>\n",
       "      <td>never smoked</td>\n",
       "      <td>1</td>\n",
       "    </tr>\n",
       "  </tbody>\n",
       "</table>\n",
       "</div>"
      ],
      "text/plain": [
       "   gender   age  hypertension  heart_disease ever_married      work_type  \\\n",
       "0    Male  67.0             0              1          Yes        Private   \n",
       "1  Female  61.0             0              0          Yes  Self-employed   \n",
       "2    Male  80.0             0              1          Yes        Private   \n",
       "3  Female  49.0             0              0          Yes        Private   \n",
       "4  Female  79.0             1              0          Yes  Self-employed   \n",
       "\n",
       "  Residence_type  avg_glucose_level   bmi   smoking_status  stroke  \n",
       "0          Urban             228.69  36.6  formerly smoked       1  \n",
       "1          Rural             202.21  28.1     never smoked       1  \n",
       "2          Rural             105.92  32.5     never smoked       1  \n",
       "3          Urban             171.23  34.4           smokes       1  \n",
       "4          Rural             174.12  24.0     never smoked       1  "
      ]
     },
     "execution_count": 10,
     "metadata": {},
     "output_type": "execute_result"
    }
   ],
   "source": [
    "df.head(5)"
   ]
  },
  {
   "cell_type": "code",
   "execution_count": 11,
   "id": "4b2f6718",
   "metadata": {},
   "outputs": [
    {
     "data": {
      "text/plain": [
       "gender               0\n",
       "age                  0\n",
       "hypertension         0\n",
       "heart_disease        0\n",
       "ever_married         0\n",
       "work_type            0\n",
       "Residence_type       0\n",
       "avg_glucose_level    0\n",
       "bmi                  0\n",
       "smoking_status       0\n",
       "stroke               0\n",
       "dtype: int64"
      ]
     },
     "execution_count": 11,
     "metadata": {},
     "output_type": "execute_result"
    }
   ],
   "source": [
    "#checking null value again\n",
    "df.isnull().sum()"
   ]
  },
  {
   "cell_type": "code",
   "execution_count": 12,
   "id": "87ba75a5",
   "metadata": {},
   "outputs": [
    {
     "data": {
      "image/png": "[encoded data removed]",
      "text/plain": [
       "<Figure size 432x288 with 2 Axes>"
      ]
     },
     "metadata": {
      "needs_background": "light"
     },
     "output_type": "display_data"
    }
   ],
   "source": [
    "#visualising the null value\n",
    "sns.heatmap(df.isnull())\n",
    "plt.show()"
   ]
  },
  {
   "cell_type": "code",
   "execution_count": 13,
   "id": "f86ef515",
   "metadata": {},
   "outputs": [
    {
     "data": {
      "text/plain": [
       "gender                object\n",
       "age                  float64\n",
       "hypertension           int64\n",
       "heart_disease          int64\n",
       "ever_married          object\n",
       "work_type             object\n",
       "Residence_type        object\n",
       "avg_glucose_level    float64\n",
       "bmi                  float64\n",
       "smoking_status        object\n",
       "stroke                 int64\n",
       "dtype: object"
      ]
     },
     "execution_count": 13,
     "metadata": {},
     "output_type": "execute_result"
    }
   ],
   "source": [
    "df.dtypes"
   ]
  },
  {
   "cell_type": "code",
   "execution_count": 14,
   "id": "b7f3bddf",
   "metadata": {},
   "outputs": [
    {
     "data": {
      "text/plain": [
       "0    4861\n",
       "1     249\n",
       "Name: stroke, dtype: int64"
      ]
     },
     "execution_count": 14,
     "metadata": {},
     "output_type": "execute_result"
    }
   ],
   "source": [
    "#need to check if target data is balanced or not\n",
    "df['stroke'].value_counts()"
   ]
  },
  {
   "cell_type": "code",
   "execution_count": 15,
   "id": "5fd67aa3",
   "metadata": {},
   "outputs": [
    {
     "data": {
      "image/png": "[encoded data removed]",
      "text/plain": [
       "<Figure size 432x288 with 1 Axes>"
      ]
     },
     "metadata": {
      "needs_background": "light"
     },
     "output_type": "display_data"
    }
   ],
   "source": [
    "#visualise count of target which is stroke\n",
    "sns.countplot(data=df,x='stroke')\n",
    "plt.show()"
   ]
  },
  {
   "cell_type": "code",
   "execution_count": 16,
   "id": "f15a8db8",
   "metadata": {},
   "outputs": [],
   "source": [
    "#now we have to make sure that we should have data set in numerical form as \n",
    "#machine only understands the numbers\n",
    "#so we have to split the data which is numerical and categorical\n",
    "df_num=df.select_dtypes(['int64','float64'])\n",
    "df_cat=df.select_dtypes(object)"
   ]
  },
  {
   "cell_type": "code",
   "execution_count": 17,
   "id": "60cd83cd",
   "metadata": {},
   "outputs": [
    {
     "data": {
      "text/html": [
       "<div>\n",
       "<style scoped>\n",
       "    .dataframe tbody tr th:only-of-type {\n",
       "        vertical-align: middle;\n",
       "    }\n",
       "\n",
       "    .dataframe tbody tr th {\n",
       "        vertical-align: top;\n",
       "    }\n",
       "\n",
       "    .dataframe thead th {\n",
       "        text-align: right;\n",
       "    }\n",
       "</style>\n",
       "<table border=\"1\" class=\"dataframe\">\n",
       "  <thead>\n",
       "    <tr style=\"text-align: right;\">\n",
       "      <th></th>\n",
       "      <th>age</th>\n",
       "      <th>hypertension</th>\n",
       "      <th>heart_disease</th>\n",
       "      <th>avg_glucose_level</th>\n",
       "      <th>bmi</th>\n",
       "      <th>stroke</th>\n",
       "    </tr>\n",
       "  </thead>\n",
       "  <tbody>\n",
       "    <tr>\n",
       "      <th>0</th>\n",
       "      <td>67.0</td>\n",
       "      <td>0</td>\n",
       "      <td>1</td>\n",
       "      <td>228.69</td>\n",
       "      <td>36.6</td>\n",
       "      <td>1</td>\n",
       "    </tr>\n",
       "    <tr>\n",
       "      <th>1</th>\n",
       "      <td>61.0</td>\n",
       "      <td>0</td>\n",
       "      <td>0</td>\n",
       "      <td>202.21</td>\n",
       "      <td>28.1</td>\n",
       "      <td>1</td>\n",
       "    </tr>\n",
       "    <tr>\n",
       "      <th>2</th>\n",
       "      <td>80.0</td>\n",
       "      <td>0</td>\n",
       "      <td>1</td>\n",
       "      <td>105.92</td>\n",
       "      <td>32.5</td>\n",
       "      <td>1</td>\n",
       "    </tr>\n",
       "    <tr>\n",
       "      <th>3</th>\n",
       "      <td>49.0</td>\n",
       "      <td>0</td>\n",
       "      <td>0</td>\n",
       "      <td>171.23</td>\n",
       "      <td>34.4</td>\n",
       "      <td>1</td>\n",
       "    </tr>\n",
       "    <tr>\n",
       "      <th>4</th>\n",
       "      <td>79.0</td>\n",
       "      <td>1</td>\n",
       "      <td>0</td>\n",
       "      <td>174.12</td>\n",
       "      <td>24.0</td>\n",
       "      <td>1</td>\n",
       "    </tr>\n",
       "  </tbody>\n",
       "</table>\n",
       "</div>"
      ],
      "text/plain": [
       "    age  hypertension  heart_disease  avg_glucose_level   bmi  stroke\n",
       "0  67.0             0              1             228.69  36.6       1\n",
       "1  61.0             0              0             202.21  28.1       1\n",
       "2  80.0             0              1             105.92  32.5       1\n",
       "3  49.0             0              0             171.23  34.4       1\n",
       "4  79.0             1              0             174.12  24.0       1"
      ]
     },
     "execution_count": 17,
     "metadata": {},
     "output_type": "execute_result"
    }
   ],
   "source": [
    "df_num.head(5)"
   ]
  },
  {
   "cell_type": "code",
   "execution_count": 18,
   "id": "73563edb",
   "metadata": {},
   "outputs": [
    {
     "data": {
      "text/html": [
       "<div>\n",
       "<style scoped>\n",
       "    .dataframe tbody tr th:only-of-type {\n",
       "        vertical-align: middle;\n",
       "    }\n",
       "\n",
       "    .dataframe tbody tr th {\n",
       "        vertical-align: top;\n",
       "    }\n",
       "\n",
       "    .dataframe thead th {\n",
       "        text-align: right;\n",
       "    }\n",
       "</style>\n",
       "<table border=\"1\" class=\"dataframe\">\n",
       "  <thead>\n",
       "    <tr style=\"text-align: right;\">\n",
       "      <th></th>\n",
       "      <th>gender</th>\n",
       "      <th>ever_married</th>\n",
       "      <th>work_type</th>\n",
       "      <th>Residence_type</th>\n",
       "      <th>smoking_status</th>\n",
       "    </tr>\n",
       "  </thead>\n",
       "  <tbody>\n",
       "    <tr>\n",
       "      <th>0</th>\n",
       "      <td>Male</td>\n",
       "      <td>Yes</td>\n",
       "      <td>Private</td>\n",
       "      <td>Urban</td>\n",
       "      <td>formerly smoked</td>\n",
       "    </tr>\n",
       "    <tr>\n",
       "      <th>1</th>\n",
       "      <td>Female</td>\n",
       "      <td>Yes</td>\n",
       "      <td>Self-employed</td>\n",
       "      <td>Rural</td>\n",
       "      <td>never smoked</td>\n",
       "    </tr>\n",
       "    <tr>\n",
       "      <th>2</th>\n",
       "      <td>Male</td>\n",
       "      <td>Yes</td>\n",
       "      <td>Private</td>\n",
       "      <td>Rural</td>\n",
       "      <td>never smoked</td>\n",
       "    </tr>\n",
       "    <tr>\n",
       "      <th>3</th>\n",
       "      <td>Female</td>\n",
       "      <td>Yes</td>\n",
       "      <td>Private</td>\n",
       "      <td>Urban</td>\n",
       "      <td>smokes</td>\n",
       "    </tr>\n",
       "    <tr>\n",
       "      <th>4</th>\n",
       "      <td>Female</td>\n",
       "      <td>Yes</td>\n",
       "      <td>Self-employed</td>\n",
       "      <td>Rural</td>\n",
       "      <td>never smoked</td>\n",
       "    </tr>\n",
       "  </tbody>\n",
       "</table>\n",
       "</div>"
      ],
      "text/plain": [
       "   gender ever_married      work_type Residence_type   smoking_status\n",
       "0    Male          Yes        Private          Urban  formerly smoked\n",
       "1  Female          Yes  Self-employed          Rural     never smoked\n",
       "2    Male          Yes        Private          Rural     never smoked\n",
       "3  Female          Yes        Private          Urban           smokes\n",
       "4  Female          Yes  Self-employed          Rural     never smoked"
      ]
     },
     "execution_count": 18,
     "metadata": {},
     "output_type": "execute_result"
    }
   ],
   "source": [
    "df_cat.head(5)"
   ]
  },
  {
   "cell_type": "code",
   "execution_count": 19,
   "id": "31df4f52",
   "metadata": {},
   "outputs": [],
   "source": [
    "#now we will convert the data into numeric form by using LabelEncoder\n",
    "from sklearn.preprocessing import LabelEncoder"
   ]
  },
  {
   "cell_type": "code",
   "execution_count": 20,
   "id": "15b739f2",
   "metadata": {},
   "outputs": [],
   "source": [
    "for col in df_cat:\n",
    "    #now create object of LabelEncoder\n",
    "    le=LabelEncoder()\n",
    "    df_cat[col]=le.fit_transform(df_cat[col])"
   ]
  },
  {
   "cell_type": "code",
   "execution_count": 21,
   "id": "962d5c8e",
   "metadata": {},
   "outputs": [
    {
     "data": {
      "text/html": [
       "<div>\n",
       "<style scoped>\n",
       "    .dataframe tbody tr th:only-of-type {\n",
       "        vertical-align: middle;\n",
       "    }\n",
       "\n",
       "    .dataframe tbody tr th {\n",
       "        vertical-align: top;\n",
       "    }\n",
       "\n",
       "    .dataframe thead th {\n",
       "        text-align: right;\n",
       "    }\n",
       "</style>\n",
       "<table border=\"1\" class=\"dataframe\">\n",
       "  <thead>\n",
       "    <tr style=\"text-align: right;\">\n",
       "      <th></th>\n",
       "      <th>gender</th>\n",
       "      <th>ever_married</th>\n",
       "      <th>work_type</th>\n",
       "      <th>Residence_type</th>\n",
       "      <th>smoking_status</th>\n",
       "    </tr>\n",
       "  </thead>\n",
       "  <tbody>\n",
       "    <tr>\n",
       "      <th>0</th>\n",
       "      <td>1</td>\n",
       "      <td>1</td>\n",
       "      <td>2</td>\n",
       "      <td>1</td>\n",
       "      <td>1</td>\n",
       "    </tr>\n",
       "    <tr>\n",
       "      <th>1</th>\n",
       "      <td>0</td>\n",
       "      <td>1</td>\n",
       "      <td>3</td>\n",
       "      <td>0</td>\n",
       "      <td>2</td>\n",
       "    </tr>\n",
       "    <tr>\n",
       "      <th>2</th>\n",
       "      <td>1</td>\n",
       "      <td>1</td>\n",
       "      <td>2</td>\n",
       "      <td>0</td>\n",
       "      <td>2</td>\n",
       "    </tr>\n",
       "    <tr>\n",
       "      <th>3</th>\n",
       "      <td>0</td>\n",
       "      <td>1</td>\n",
       "      <td>2</td>\n",
       "      <td>1</td>\n",
       "      <td>3</td>\n",
       "    </tr>\n",
       "    <tr>\n",
       "      <th>4</th>\n",
       "      <td>0</td>\n",
       "      <td>1</td>\n",
       "      <td>3</td>\n",
       "      <td>0</td>\n",
       "      <td>2</td>\n",
       "    </tr>\n",
       "    <tr>\n",
       "      <th>...</th>\n",
       "      <td>...</td>\n",
       "      <td>...</td>\n",
       "      <td>...</td>\n",
       "      <td>...</td>\n",
       "      <td>...</td>\n",
       "    </tr>\n",
       "    <tr>\n",
       "      <th>5105</th>\n",
       "      <td>0</td>\n",
       "      <td>1</td>\n",
       "      <td>2</td>\n",
       "      <td>1</td>\n",
       "      <td>2</td>\n",
       "    </tr>\n",
       "    <tr>\n",
       "      <th>5106</th>\n",
       "      <td>0</td>\n",
       "      <td>1</td>\n",
       "      <td>3</td>\n",
       "      <td>1</td>\n",
       "      <td>2</td>\n",
       "    </tr>\n",
       "    <tr>\n",
       "      <th>5107</th>\n",
       "      <td>0</td>\n",
       "      <td>1</td>\n",
       "      <td>3</td>\n",
       "      <td>0</td>\n",
       "      <td>2</td>\n",
       "    </tr>\n",
       "    <tr>\n",
       "      <th>5108</th>\n",
       "      <td>1</td>\n",
       "      <td>1</td>\n",
       "      <td>2</td>\n",
       "      <td>0</td>\n",
       "      <td>1</td>\n",
       "    </tr>\n",
       "    <tr>\n",
       "      <th>5109</th>\n",
       "      <td>0</td>\n",
       "      <td>1</td>\n",
       "      <td>0</td>\n",
       "      <td>1</td>\n",
       "      <td>0</td>\n",
       "    </tr>\n",
       "  </tbody>\n",
       "</table>\n",
       "<p>5110 rows × 5 columns</p>\n",
       "</div>"
      ],
      "text/plain": [
       "      gender  ever_married  work_type  Residence_type  smoking_status\n",
       "0          1             1          2               1               1\n",
       "1          0             1          3               0               2\n",
       "2          1             1          2               0               2\n",
       "3          0             1          2               1               3\n",
       "4          0             1          3               0               2\n",
       "...      ...           ...        ...             ...             ...\n",
       "5105       0             1          2               1               2\n",
       "5106       0             1          3               1               2\n",
       "5107       0             1          3               0               2\n",
       "5108       1             1          2               0               1\n",
       "5109       0             1          0               1               0\n",
       "\n",
       "[5110 rows x 5 columns]"
      ]
     },
     "execution_count": 21,
     "metadata": {},
     "output_type": "execute_result"
    }
   ],
   "source": [
    "df_cat"
   ]
  },
  {
   "cell_type": "code",
   "execution_count": 22,
   "id": "216e03f5",
   "metadata": {},
   "outputs": [
    {
     "data": {
      "text/plain": [
       "gender            int32\n",
       "ever_married      int32\n",
       "work_type         int32\n",
       "Residence_type    int32\n",
       "smoking_status    int32\n",
       "dtype: object"
      ]
     },
     "execution_count": 22,
     "metadata": {},
     "output_type": "execute_result"
    }
   ],
   "source": [
    "#noe we can check the data type of df_cat which was categorical data\n",
    "df_cat.dtypes"
   ]
  },
  {
   "cell_type": "code",
   "execution_count": 23,
   "id": "bb7c0ddf",
   "metadata": {},
   "outputs": [
    {
     "data": {
      "text/html": [
       "<div>\n",
       "<style scoped>\n",
       "    .dataframe tbody tr th:only-of-type {\n",
       "        vertical-align: middle;\n",
       "    }\n",
       "\n",
       "    .dataframe tbody tr th {\n",
       "        vertical-align: top;\n",
       "    }\n",
       "\n",
       "    .dataframe thead th {\n",
       "        text-align: right;\n",
       "    }\n",
       "</style>\n",
       "<table border=\"1\" class=\"dataframe\">\n",
       "  <thead>\n",
       "    <tr style=\"text-align: right;\">\n",
       "      <th></th>\n",
       "      <th>age</th>\n",
       "      <th>hypertension</th>\n",
       "      <th>heart_disease</th>\n",
       "      <th>avg_glucose_level</th>\n",
       "      <th>bmi</th>\n",
       "      <th>stroke</th>\n",
       "      <th>gender</th>\n",
       "      <th>ever_married</th>\n",
       "      <th>work_type</th>\n",
       "      <th>Residence_type</th>\n",
       "      <th>smoking_status</th>\n",
       "    </tr>\n",
       "  </thead>\n",
       "  <tbody>\n",
       "    <tr>\n",
       "      <th>0</th>\n",
       "      <td>67.0</td>\n",
       "      <td>0</td>\n",
       "      <td>1</td>\n",
       "      <td>228.69</td>\n",
       "      <td>36.6</td>\n",
       "      <td>1</td>\n",
       "      <td>1</td>\n",
       "      <td>1</td>\n",
       "      <td>2</td>\n",
       "      <td>1</td>\n",
       "      <td>1</td>\n",
       "    </tr>\n",
       "    <tr>\n",
       "      <th>1</th>\n",
       "      <td>61.0</td>\n",
       "      <td>0</td>\n",
       "      <td>0</td>\n",
       "      <td>202.21</td>\n",
       "      <td>28.1</td>\n",
       "      <td>1</td>\n",
       "      <td>0</td>\n",
       "      <td>1</td>\n",
       "      <td>3</td>\n",
       "      <td>0</td>\n",
       "      <td>2</td>\n",
       "    </tr>\n",
       "    <tr>\n",
       "      <th>2</th>\n",
       "      <td>80.0</td>\n",
       "      <td>0</td>\n",
       "      <td>1</td>\n",
       "      <td>105.92</td>\n",
       "      <td>32.5</td>\n",
       "      <td>1</td>\n",
       "      <td>1</td>\n",
       "      <td>1</td>\n",
       "      <td>2</td>\n",
       "      <td>0</td>\n",
       "      <td>2</td>\n",
       "    </tr>\n",
       "    <tr>\n",
       "      <th>3</th>\n",
       "      <td>49.0</td>\n",
       "      <td>0</td>\n",
       "      <td>0</td>\n",
       "      <td>171.23</td>\n",
       "      <td>34.4</td>\n",
       "      <td>1</td>\n",
       "      <td>0</td>\n",
       "      <td>1</td>\n",
       "      <td>2</td>\n",
       "      <td>1</td>\n",
       "      <td>3</td>\n",
       "    </tr>\n",
       "    <tr>\n",
       "      <th>4</th>\n",
       "      <td>79.0</td>\n",
       "      <td>1</td>\n",
       "      <td>0</td>\n",
       "      <td>174.12</td>\n",
       "      <td>24.0</td>\n",
       "      <td>1</td>\n",
       "      <td>0</td>\n",
       "      <td>1</td>\n",
       "      <td>3</td>\n",
       "      <td>0</td>\n",
       "      <td>2</td>\n",
       "    </tr>\n",
       "  </tbody>\n",
       "</table>\n",
       "</div>"
      ],
      "text/plain": [
       "    age  hypertension  heart_disease  avg_glucose_level   bmi  stroke  gender  \\\n",
       "0  67.0             0              1             228.69  36.6       1       1   \n",
       "1  61.0             0              0             202.21  28.1       1       0   \n",
       "2  80.0             0              1             105.92  32.5       1       1   \n",
       "3  49.0             0              0             171.23  34.4       1       0   \n",
       "4  79.0             1              0             174.12  24.0       1       0   \n",
       "\n",
       "   ever_married  work_type  Residence_type  smoking_status  \n",
       "0             1          2               1               1  \n",
       "1             1          3               0               2  \n",
       "2             1          2               0               2  \n",
       "3             1          2               1               3  \n",
       "4             1          3               0               2  "
      ]
     },
     "execution_count": 23,
     "metadata": {},
     "output_type": "execute_result"
    }
   ],
   "source": [
    "#after converting the complete dataset into numerical data types we need to \n",
    "#concatenate df_cat and df_num\n",
    "df_new=pd.concat([df_num,df_cat],axis=1)\n",
    "df_new.head(5)"
   ]
  },
  {
   "cell_type": "code",
   "execution_count": 24,
   "id": "153f588d",
   "metadata": {},
   "outputs": [
    {
     "name": "stdout",
     "output_type": "stream",
     "text": [
      "Yes    3353\n",
      "No     1757\n",
      "Name: ever_married, dtype: int64\n",
      "Private          2925\n",
      "Self-employed     819\n",
      "children          687\n",
      "Govt_job          657\n",
      "Never_worked       22\n",
      "Name: work_type, dtype: int64\n",
      "Urban    2596\n",
      "Rural    2514\n",
      "Name: Residence_type, dtype: int64\n",
      "never smoked       1892\n",
      "Unknown            1544\n",
      "formerly smoked     885\n",
      "smokes              789\n",
      "Name: smoking_status, dtype: int64\n"
     ]
    }
   ],
   "source": [
    "#just to check how many types of conversion in df_cat data\n",
    "married=df['ever_married'].value_counts()\n",
    "print(married)\n",
    "\n",
    "work=df['work_type'].value_counts()\n",
    "print(work)\n",
    "\n",
    "home=df['Residence_type'].value_counts()\n",
    "print(home)\n",
    "\n",
    "smoke=df['smoking_status'].value_counts()\n",
    "print(smoke)"
   ]
  },
  {
   "cell_type": "code",
   "execution_count": 25,
   "id": "9c201dfc",
   "metadata": {},
   "outputs": [
    {
     "data": {
      "text/html": [
       "<div>\n",
       "<style scoped>\n",
       "    .dataframe tbody tr th:only-of-type {\n",
       "        vertical-align: middle;\n",
       "    }\n",
       "\n",
       "    .dataframe tbody tr th {\n",
       "        vertical-align: top;\n",
       "    }\n",
       "\n",
       "    .dataframe thead th {\n",
       "        text-align: right;\n",
       "    }\n",
       "</style>\n",
       "<table border=\"1\" class=\"dataframe\">\n",
       "  <thead>\n",
       "    <tr style=\"text-align: right;\">\n",
       "      <th></th>\n",
       "      <th>age</th>\n",
       "      <th>hypertension</th>\n",
       "      <th>heart_disease</th>\n",
       "      <th>avg_glucose_level</th>\n",
       "      <th>bmi</th>\n",
       "      <th>stroke</th>\n",
       "      <th>gender</th>\n",
       "      <th>ever_married</th>\n",
       "      <th>work_type</th>\n",
       "      <th>Residence_type</th>\n",
       "      <th>smoking_status</th>\n",
       "    </tr>\n",
       "  </thead>\n",
       "  <tbody>\n",
       "    <tr>\n",
       "      <th>0</th>\n",
       "      <td>67.0</td>\n",
       "      <td>0</td>\n",
       "      <td>1</td>\n",
       "      <td>228.69</td>\n",
       "      <td>36.6</td>\n",
       "      <td>1</td>\n",
       "      <td>1</td>\n",
       "      <td>1</td>\n",
       "      <td>2</td>\n",
       "      <td>1</td>\n",
       "      <td>1</td>\n",
       "    </tr>\n",
       "    <tr>\n",
       "      <th>1</th>\n",
       "      <td>61.0</td>\n",
       "      <td>0</td>\n",
       "      <td>0</td>\n",
       "      <td>202.21</td>\n",
       "      <td>28.1</td>\n",
       "      <td>1</td>\n",
       "      <td>0</td>\n",
       "      <td>1</td>\n",
       "      <td>3</td>\n",
       "      <td>0</td>\n",
       "      <td>2</td>\n",
       "    </tr>\n",
       "    <tr>\n",
       "      <th>2</th>\n",
       "      <td>80.0</td>\n",
       "      <td>0</td>\n",
       "      <td>1</td>\n",
       "      <td>105.92</td>\n",
       "      <td>32.5</td>\n",
       "      <td>1</td>\n",
       "      <td>1</td>\n",
       "      <td>1</td>\n",
       "      <td>2</td>\n",
       "      <td>0</td>\n",
       "      <td>2</td>\n",
       "    </tr>\n",
       "    <tr>\n",
       "      <th>3</th>\n",
       "      <td>49.0</td>\n",
       "      <td>0</td>\n",
       "      <td>0</td>\n",
       "      <td>171.23</td>\n",
       "      <td>34.4</td>\n",
       "      <td>1</td>\n",
       "      <td>0</td>\n",
       "      <td>1</td>\n",
       "      <td>2</td>\n",
       "      <td>1</td>\n",
       "      <td>3</td>\n",
       "    </tr>\n",
       "    <tr>\n",
       "      <th>4</th>\n",
       "      <td>79.0</td>\n",
       "      <td>1</td>\n",
       "      <td>0</td>\n",
       "      <td>174.12</td>\n",
       "      <td>24.0</td>\n",
       "      <td>1</td>\n",
       "      <td>0</td>\n",
       "      <td>1</td>\n",
       "      <td>3</td>\n",
       "      <td>0</td>\n",
       "      <td>2</td>\n",
       "    </tr>\n",
       "  </tbody>\n",
       "</table>\n",
       "</div>"
      ],
      "text/plain": [
       "    age  hypertension  heart_disease  avg_glucose_level   bmi  stroke  gender  \\\n",
       "0  67.0             0              1             228.69  36.6       1       1   \n",
       "1  61.0             0              0             202.21  28.1       1       0   \n",
       "2  80.0             0              1             105.92  32.5       1       1   \n",
       "3  49.0             0              0             171.23  34.4       1       0   \n",
       "4  79.0             1              0             174.12  24.0       1       0   \n",
       "\n",
       "   ever_married  work_type  Residence_type  smoking_status  \n",
       "0             1          2               1               1  \n",
       "1             1          3               0               2  \n",
       "2             1          2               0               2  \n",
       "3             1          2               1               3  \n",
       "4             1          3               0               2  "
      ]
     },
     "execution_count": 25,
     "metadata": {},
     "output_type": "execute_result"
    }
   ],
   "source": [
    "df_new.head(5)"
   ]
  },
  {
   "cell_type": "code",
   "execution_count": 26,
   "id": "8dfe4717",
   "metadata": {},
   "outputs": [],
   "source": [
    "#after converting the complete dataset into numerical data types we will split the data into\n",
    "#input and output\n",
    "x=df_new.drop('stroke',axis=1) #input\n",
    "y=df_new['stroke'] #output\n"
   ]
  },
  {
   "cell_type": "code",
   "execution_count": 27,
   "id": "f5b945f6",
   "metadata": {},
   "outputs": [],
   "source": [
    "#now we will train and test the splited data\n",
    "from sklearn.model_selection import train_test_split"
   ]
  },
  {
   "cell_type": "code",
   "execution_count": 28,
   "id": "3d1178c3",
   "metadata": {},
   "outputs": [],
   "source": [
    "x_train,x_test,y_train,y_test=train_test_split(x,y,test_size=0.3,random_state=1)"
   ]
  },
  {
   "cell_type": "code",
   "execution_count": 29,
   "id": "9d61e0a9",
   "metadata": {},
   "outputs": [],
   "source": [
    "#now we will apply standerd scaler on input data before we tarin the model\n",
    "from sklearn.preprocessing import StandardScaler"
   ]
  },
  {
   "cell_type": "code",
   "execution_count": 30,
   "id": "3913a721",
   "metadata": {},
   "outputs": [],
   "source": [
    "#create an object of StandardScaler\n",
    "ss=StandardScaler()\n",
    "#we only apply standardScaler on x_train and x_test\n",
    "x_train=ss.fit_transform(x_train)\n",
    "x_test=ss.transform(x_test)"
   ]
  },
  {
   "cell_type": "code",
   "execution_count": 31,
   "id": "d51db155",
   "metadata": {},
   "outputs": [
    {
     "data": {
      "text/plain": [
       "array([[ 0.60884288, -0.33037446, -0.23816135, ..., -0.15281839,\n",
       "         0.99414629, -1.28066776],\n",
       "       [-1.88698872, -0.33037446, -0.23816135, ...,  1.684598  ,\n",
       "        -1.00588818, -1.28066776],\n",
       "       [-1.03666263, -0.33037446, -0.23816135, ..., -0.15281839,\n",
       "         0.99414629,  0.58720118],\n",
       "       ...,\n",
       "       [-0.54745829, -0.33037446, -0.23816135, ..., -0.15281839,\n",
       "        -1.00588818,  0.58720118],\n",
       "       [ 0.07516542, -0.33037446, -0.23816135, ..., -0.15281839,\n",
       "        -1.00588818,  1.52113566],\n",
       "       [ 1.09804722, -0.33037446, -0.23816135, ..., -0.15281839,\n",
       "        -1.00588818, -1.28066776]])"
      ]
     },
     "execution_count": 31,
     "metadata": {},
     "output_type": "execute_result"
    }
   ],
   "source": [
    "x_train"
   ]
  },
  {
   "cell_type": "code",
   "execution_count": 32,
   "id": "55123c30",
   "metadata": {},
   "outputs": [],
   "source": [
    "#as we are working on classification data set so first we will create the model of \n",
    "#logisticRegression class\n",
    "#we will use base line model : LogisticRegression\n",
    "from sklearn.linear_model import LogisticRegression"
   ]
  },
  {
   "cell_type": "code",
   "execution_count": 33,
   "id": "9e974d83",
   "metadata": {},
   "outputs": [],
   "source": [
    "#create an object of LogisticRegression\n",
    "lr=LogisticRegression()"
   ]
  },
  {
   "cell_type": "code",
   "execution_count": 34,
   "id": "8345b687",
   "metadata": {},
   "outputs": [
    {
     "data": {
      "text/html": [
       "<style>#sk-container-id-1 {color: black;background-color: white;}#sk-container-id-1 pre{padding: 0;}#sk-container-id-1 div.sk-toggleable {background-color: white;}#sk-container-id-1 label.sk-toggleable__label {cursor: pointer;display: block;width: 100%;margin-bottom: 0;padding: 0.3em;box-sizing: border-box;text-align: center;}#sk-container-id-1 label.sk-toggleable__label-arrow:before {content: \"▸\";float: left;margin-right: 0.25em;color: #696969;}#sk-container-id-1 label.sk-toggleable__label-arrow:hover:before {color: black;}#sk-container-id-1 div.sk-estimator:hover label.sk-toggleable__label-arrow:before {color: black;}#sk-container-id-1 div.sk-toggleable__content {max-height: 0;max-width: 0;overflow: hidden;text-align: left;background-color: #f0f8ff;}#sk-container-id-1 div.sk-toggleable__content pre {margin: 0.2em;color: black;border-radius: 0.25em;background-color: #f0f8ff;}#sk-container-id-1 input.sk-toggleable__control:checked~div.sk-toggleable__content {max-height: 200px;max-width: 100%;overflow: auto;}#sk-container-id-1 input.sk-toggleable__control:checked~label.sk-toggleable__label-arrow:before {content: \"▾\";}#sk-container-id-1 div.sk-estimator input.sk-toggleable__control:checked~label.sk-toggleable__label {background-color: #d4ebff;}#sk-container-id-1 div.sk-label input.sk-toggleable__control:checked~label.sk-toggleable__label {background-color: #d4ebff;}#sk-container-id-1 input.sk-hidden--visually {border: 0;clip: rect(1px 1px 1px 1px);clip: rect(1px, 1px, 1px, 1px);height: 1px;margin: -1px;overflow: hidden;padding: 0;position: absolute;width: 1px;}#sk-container-id-1 div.sk-estimator {font-family: monospace;background-color: #f0f8ff;border: 1px dotted black;border-radius: 0.25em;box-sizing: border-box;margin-bottom: 0.5em;}#sk-container-id-1 div.sk-estimator:hover {background-color: #d4ebff;}#sk-container-id-1 div.sk-parallel-item::after {content: \"\";width: 100%;border-bottom: 1px solid gray;flex-grow: 1;}#sk-container-id-1 div.sk-label:hover label.sk-toggleable__label {background-color: #d4ebff;}#sk-container-id-1 div.sk-serial::before {content: \"\";position: absolute;border-left: 1px solid gray;box-sizing: border-box;top: 0;bottom: 0;left: 50%;z-index: 0;}#sk-container-id-1 div.sk-serial {display: flex;flex-direction: column;align-items: center;background-color: white;padding-right: 0.2em;padding-left: 0.2em;position: relative;}#sk-container-id-1 div.sk-item {position: relative;z-index: 1;}#sk-container-id-1 div.sk-parallel {display: flex;align-items: stretch;justify-content: center;background-color: white;position: relative;}#sk-container-id-1 div.sk-item::before, #sk-container-id-1 div.sk-parallel-item::before {content: \"\";position: absolute;border-left: 1px solid gray;box-sizing: border-box;top: 0;bottom: 0;left: 50%;z-index: -1;}#sk-container-id-1 div.sk-parallel-item {display: flex;flex-direction: column;z-index: 1;position: relative;background-color: white;}#sk-container-id-1 div.sk-parallel-item:first-child::after {align-self: flex-end;width: 50%;}#sk-container-id-1 div.sk-parallel-item:last-child::after {align-self: flex-start;width: 50%;}#sk-container-id-1 div.sk-parallel-item:only-child::after {width: 0;}#sk-container-id-1 div.sk-dashed-wrapped {border: 1px dashed gray;margin: 0 0.4em 0.5em 0.4em;box-sizing: border-box;padding-bottom: 0.4em;background-color: white;}#sk-container-id-1 div.sk-label label {font-family: monospace;font-weight: bold;display: inline-block;line-height: 1.2em;}#sk-container-id-1 div.sk-label-container {text-align: center;}#sk-container-id-1 div.sk-container {/* jupyter's `normalize.less` sets `[hidden] { display: none; }` but bootstrap.min.css set `[hidden] { display: none !important; }` so we also need the `!important` here to be able to override the default hidden behavior on the sphinx rendered scikit-learn.org. See: https://github.com/scikit-learn/scikit-learn/issues/21755 */display: inline-block !important;position: relative;}#sk-container-id-1 div.sk-text-repr-fallback {display: none;}</style><div id=\"sk-container-id-1\" class=\"sk-top-container\"><div class=\"sk-text-repr-fallback\"><pre>LogisticRegression()</pre><b>In a Jupyter environment, please rerun this cell to show the HTML representation or trust the notebook. <br />On GitHub, the HTML representation is unable to render, please try loading this page with nbviewer.org.</b></div><div class=\"sk-container\" hidden><div class=\"sk-item\"><div class=\"sk-estimator sk-toggleable\"><input class=\"sk-toggleable__control sk-hidden--visually\" id=\"sk-estimator-id-1\" type=\"checkbox\" checked><label for=\"sk-estimator-id-1\" class=\"sk-toggleable__label sk-toggleable__label-arrow\">LogisticRegression</label><div class=\"sk-toggleable__content\"><pre>LogisticRegression()</pre></div></div></div></div></div>"
      ],
      "text/plain": [
       "LogisticRegression()"
      ]
     },
     "execution_count": 34,
     "metadata": {},
     "output_type": "execute_result"
    }
   ],
   "source": [
    "#now we will train the model with 70% data by using fit method to check the model accuracy \n",
    "lr.fit(x_train,y_train)"
   ]
  },
  {
   "cell_type": "code",
   "execution_count": 35,
   "id": "1d92bb1b",
   "metadata": {},
   "outputs": [
    {
     "data": {
      "text/plain": [
       "array([0, 0, 0, ..., 0, 0, 0], dtype=int64)"
      ]
     },
     "execution_count": 35,
     "metadata": {},
     "output_type": "execute_result"
    }
   ],
   "source": [
    "#to test the model with 30% data use inbuilt method predict\n",
    "y_pred=lr.predict(x_test)\n",
    "y_pred"
   ]
  },
  {
   "cell_type": "code",
   "execution_count": 36,
   "id": "10f10e51",
   "metadata": {},
   "outputs": [
    {
     "data": {
      "text/html": [
       "<div>\n",
       "<style scoped>\n",
       "    .dataframe tbody tr th:only-of-type {\n",
       "        vertical-align: middle;\n",
       "    }\n",
       "\n",
       "    .dataframe tbody tr th {\n",
       "        vertical-align: top;\n",
       "    }\n",
       "\n",
       "    .dataframe thead th {\n",
       "        text-align: right;\n",
       "    }\n",
       "</style>\n",
       "<table border=\"1\" class=\"dataframe\">\n",
       "  <thead>\n",
       "    <tr style=\"text-align: right;\">\n",
       "      <th></th>\n",
       "      <th>Actual output</th>\n",
       "      <th>predected output</th>\n",
       "    </tr>\n",
       "  </thead>\n",
       "  <tbody>\n",
       "    <tr>\n",
       "      <th>4673</th>\n",
       "      <td>0</td>\n",
       "      <td>0</td>\n",
       "    </tr>\n",
       "    <tr>\n",
       "      <th>3232</th>\n",
       "      <td>0</td>\n",
       "      <td>0</td>\n",
       "    </tr>\n",
       "    <tr>\n",
       "      <th>3694</th>\n",
       "      <td>0</td>\n",
       "      <td>0</td>\n",
       "    </tr>\n",
       "    <tr>\n",
       "      <th>1070</th>\n",
       "      <td>0</td>\n",
       "      <td>0</td>\n",
       "    </tr>\n",
       "    <tr>\n",
       "      <th>4163</th>\n",
       "      <td>0</td>\n",
       "      <td>0</td>\n",
       "    </tr>\n",
       "    <tr>\n",
       "      <th>795</th>\n",
       "      <td>0</td>\n",
       "      <td>0</td>\n",
       "    </tr>\n",
       "    <tr>\n",
       "      <th>440</th>\n",
       "      <td>0</td>\n",
       "      <td>0</td>\n",
       "    </tr>\n",
       "    <tr>\n",
       "      <th>870</th>\n",
       "      <td>0</td>\n",
       "      <td>0</td>\n",
       "    </tr>\n",
       "    <tr>\n",
       "      <th>1102</th>\n",
       "      <td>0</td>\n",
       "      <td>0</td>\n",
       "    </tr>\n",
       "    <tr>\n",
       "      <th>836</th>\n",
       "      <td>0</td>\n",
       "      <td>0</td>\n",
       "    </tr>\n",
       "    <tr>\n",
       "      <th>4236</th>\n",
       "      <td>0</td>\n",
       "      <td>0</td>\n",
       "    </tr>\n",
       "    <tr>\n",
       "      <th>574</th>\n",
       "      <td>0</td>\n",
       "      <td>0</td>\n",
       "    </tr>\n",
       "    <tr>\n",
       "      <th>3244</th>\n",
       "      <td>0</td>\n",
       "      <td>0</td>\n",
       "    </tr>\n",
       "    <tr>\n",
       "      <th>4</th>\n",
       "      <td>1</td>\n",
       "      <td>0</td>\n",
       "    </tr>\n",
       "    <tr>\n",
       "      <th>3007</th>\n",
       "      <td>0</td>\n",
       "      <td>0</td>\n",
       "    </tr>\n",
       "    <tr>\n",
       "      <th>4490</th>\n",
       "      <td>0</td>\n",
       "      <td>0</td>\n",
       "    </tr>\n",
       "    <tr>\n",
       "      <th>4969</th>\n",
       "      <td>0</td>\n",
       "      <td>0</td>\n",
       "    </tr>\n",
       "    <tr>\n",
       "      <th>3510</th>\n",
       "      <td>0</td>\n",
       "      <td>0</td>\n",
       "    </tr>\n",
       "    <tr>\n",
       "      <th>718</th>\n",
       "      <td>0</td>\n",
       "      <td>0</td>\n",
       "    </tr>\n",
       "    <tr>\n",
       "      <th>3689</th>\n",
       "      <td>0</td>\n",
       "      <td>0</td>\n",
       "    </tr>\n",
       "    <tr>\n",
       "      <th>1169</th>\n",
       "      <td>0</td>\n",
       "      <td>0</td>\n",
       "    </tr>\n",
       "    <tr>\n",
       "      <th>28</th>\n",
       "      <td>1</td>\n",
       "      <td>0</td>\n",
       "    </tr>\n",
       "    <tr>\n",
       "      <th>1958</th>\n",
       "      <td>0</td>\n",
       "      <td>0</td>\n",
       "    </tr>\n",
       "    <tr>\n",
       "      <th>3875</th>\n",
       "      <td>0</td>\n",
       "      <td>0</td>\n",
       "    </tr>\n",
       "    <tr>\n",
       "      <th>4350</th>\n",
       "      <td>0</td>\n",
       "      <td>0</td>\n",
       "    </tr>\n",
       "  </tbody>\n",
       "</table>\n",
       "</div>"
      ],
      "text/plain": [
       "      Actual output  predected output\n",
       "4673              0                 0\n",
       "3232              0                 0\n",
       "3694              0                 0\n",
       "1070              0                 0\n",
       "4163              0                 0\n",
       "795               0                 0\n",
       "440               0                 0\n",
       "870               0                 0\n",
       "1102              0                 0\n",
       "836               0                 0\n",
       "4236              0                 0\n",
       "574               0                 0\n",
       "3244              0                 0\n",
       "4                 1                 0\n",
       "3007              0                 0\n",
       "4490              0                 0\n",
       "4969              0                 0\n",
       "3510              0                 0\n",
       "718               0                 0\n",
       "3689              0                 0\n",
       "1169              0                 0\n",
       "28                1                 0\n",
       "1958              0                 0\n",
       "3875              0                 0\n",
       "4350              0                 0"
      ]
     },
     "execution_count": 36,
     "metadata": {},
     "output_type": "execute_result"
    }
   ],
   "source": [
    "#now we will create the table to check the acual and predected result\n",
    "#create a dictionary\n",
    "dict={'Actual output':y_test,'predected output':y_pred}\n",
    "df1=pd.DataFrame(dict)\n",
    "df1.head(25)"
   ]
  },
  {
   "cell_type": "code",
   "execution_count": 37,
   "id": "7dee8a33",
   "metadata": {},
   "outputs": [
    {
     "data": {
      "text/plain": [
       "0.9458577951728636"
      ]
     },
     "execution_count": 37,
     "metadata": {},
     "output_type": "execute_result"
    }
   ],
   "source": [
    "# Check accuracy of model use inbuilt method score() of LogisticRegression.\n",
    "lr.score(x_test,y_test)      # Score always varies between 0-1"
   ]
  },
  {
   "cell_type": "code",
   "execution_count": 38,
   "id": "16f35d6e",
   "metadata": {},
   "outputs": [],
   "source": [
    "# now we will generate the classification report and confusion matrix\n",
    "from sklearn.metrics import classification_report\n",
    "from sklearn.metrics import confusion_matrix"
   ]
  },
  {
   "cell_type": "code",
   "execution_count": 39,
   "id": "8ab86392",
   "metadata": {},
   "outputs": [
    {
     "name": "stdout",
     "output_type": "stream",
     "text": [
      "              precision    recall  f1-score   support\n",
      "\n",
      "           0       0.95      1.00      0.97      1450\n",
      "           1       0.00      0.00      0.00        83\n",
      "\n",
      "    accuracy                           0.95      1533\n",
      "   macro avg       0.47      0.50      0.49      1533\n",
      "weighted avg       0.89      0.95      0.92      1533\n",
      "\n",
      "[[1450    0]\n",
      " [  83    0]]\n"
     ]
    }
   ],
   "source": [
    "print(classification_report(y_test,y_pred))\n",
    "print(confusion_matrix(y_test,y_pred))"
   ]
  },
  {
   "cell_type": "markdown",
   "id": "2efe62b6",
   "metadata": {},
   "source": [
    "# Report"
   ]
  },
  {
   "cell_type": "markdown",
   "id": "70f44b89",
   "metadata": {},
   "source": [
    "This Model is not accurate as the recall value of 0 is 100%. Clearly data is imbalanced. Here, there are 2 classes: 0 means NO and 1 means yes The majority class is NO [0(4861 Samples)] and minority class is Yes [1(249 Samples)]. as both the class is not balanced so we have to balance both the class by using Sampling Technique. There are two types of Sampling Technique: 1: RandomOverSampling : it increase minority class on the level of majority class 2: RandomUnderSampling : it decrease Majority class on the level of minority class"
   ]
  },
  {
   "cell_type": "markdown",
   "id": "a84c9b3d",
   "metadata": {},
   "source": [
    "# First install inbuilt package imblearn"
   ]
  },
  {
   "cell_type": "code",
   "execution_count": 40,
   "id": "7a801cd4",
   "metadata": {},
   "outputs": [],
   "source": [
    "#!pip install imblearn"
   ]
  },
  {
   "cell_type": "code",
   "execution_count": 41,
   "id": "237acb6c",
   "metadata": {},
   "outputs": [],
   "source": [
    "# here we use RandomOverSampling inbuilt class\n",
    "#that means we will craete a duplicate minority class till it match the level of \n",
    "#majority class\n",
    "from imblearn.over_sampling import RandomOverSampler"
   ]
  },
  {
   "cell_type": "code",
   "execution_count": 42,
   "id": "76e24836",
   "metadata": {
    "scrolled": true
   },
   "outputs": [
    {
     "data": {
      "text/plain": [
       "0    3411\n",
       "1     166\n",
       "Name: stroke, dtype: int64"
      ]
     },
     "execution_count": 42,
     "metadata": {},
     "output_type": "execute_result"
    }
   ],
   "source": [
    "# Check how many samples of class 0 and 1 class in Y_train\n",
    "y_train.value_counts()"
   ]
  },
  {
   "cell_type": "code",
   "execution_count": 43,
   "id": "e93007dc",
   "metadata": {},
   "outputs": [],
   "source": [
    "#now apply RandomOverSampler class\n",
    "ros=RandomOverSampler(random_state=1)"
   ]
  },
  {
   "cell_type": "code",
   "execution_count": 44,
   "id": "9159bf8e",
   "metadata": {},
   "outputs": [],
   "source": [
    "#use inbuilt method of fit_resample() of RandomOverSampler class\n",
    "x_train_ros,y_train_ros=ros.fit_resample(x_train,y_train)"
   ]
  },
  {
   "cell_type": "code",
   "execution_count": 45,
   "id": "c6c9956b",
   "metadata": {
    "scrolled": true
   },
   "outputs": [
    {
     "data": {
      "text/plain": [
       "0    3411\n",
       "1    3411\n",
       "Name: stroke, dtype: int64"
      ]
     },
     "execution_count": 45,
     "metadata": {},
     "output_type": "execute_result"
    }
   ],
   "source": [
    "#now will check if the training data is balanced or not\n",
    "y_train_ros.value_counts()"
   ]
  },
  {
   "cell_type": "code",
   "execution_count": 46,
   "id": "d07de323",
   "metadata": {},
   "outputs": [
    {
     "data": {
      "text/plain": [
       "0    1450\n",
       "1      83\n",
       "Name: stroke, dtype: int64"
      ]
     },
     "execution_count": 46,
     "metadata": {},
     "output_type": "execute_result"
    }
   ],
   "source": [
    "#As it is we will check how many samples of class 0 and 1 class in y_test \n",
    "y_test.value_counts()"
   ]
  },
  {
   "cell_type": "code",
   "execution_count": 47,
   "id": "c519cb8e",
   "metadata": {},
   "outputs": [],
   "source": [
    "# Now apply RandomOverSampler on testing data\n",
    "x_test_ros,y_test_ros=ros.fit_resample(x_test,y_test)"
   ]
  },
  {
   "cell_type": "code",
   "execution_count": 48,
   "id": "8ad31479",
   "metadata": {},
   "outputs": [
    {
     "data": {
      "text/plain": [
       "0    1450\n",
       "1    1450\n",
       "Name: stroke, dtype: int64"
      ]
     },
     "execution_count": 48,
     "metadata": {},
     "output_type": "execute_result"
    }
   ],
   "source": [
    "#again Check\n",
    "y_test_ros.value_counts()"
   ]
  },
  {
   "cell_type": "code",
   "execution_count": 49,
   "id": "4a0444cd",
   "metadata": {},
   "outputs": [],
   "source": [
    "from sklearn.metrics import confusion_matrix"
   ]
  },
  {
   "cell_type": "code",
   "execution_count": 50,
   "id": "44f2ea83",
   "metadata": {},
   "outputs": [],
   "source": [
    "#create a function\n",
    "def create_model(model):\n",
    "    model.fit(x_train_ros,y_train_ros)  #train the model with 70% data\n",
    "    y_pred=model.predict(x_test_ros)    #test the model with 70% data\n",
    "    print(classification_report(y_test_ros,y_pred))\n",
    "    print(confusion_matrix(y_test_ros,y_pred))\n",
    "    return model"
   ]
  },
  {
   "cell_type": "code",
   "execution_count": 51,
   "id": "e7aefed4",
   "metadata": {},
   "outputs": [],
   "source": [
    "# now again we use logistic regression as we already imported\n",
    "lr=LogisticRegression()"
   ]
  },
  {
   "cell_type": "code",
   "execution_count": 52,
   "id": "2b306390",
   "metadata": {},
   "outputs": [
    {
     "name": "stdout",
     "output_type": "stream",
     "text": [
      "              precision    recall  f1-score   support\n",
      "\n",
      "           0       0.81      0.72      0.76      1450\n",
      "           1       0.75      0.83      0.79      1450\n",
      "\n",
      "    accuracy                           0.78      2900\n",
      "   macro avg       0.78      0.78      0.78      2900\n",
      "weighted avg       0.78      0.78      0.78      2900\n",
      "\n",
      "[[1049  401]\n",
      " [ 247 1203]]\n"
     ]
    }
   ],
   "source": [
    "lr=create_model(lr)"
   ]
  },
  {
   "cell_type": "code",
   "execution_count": 53,
   "id": "75d629a5",
   "metadata": {},
   "outputs": [],
   "source": [
    "#as we can see the accuracy is not good so we will move to another algorithm"
   ]
  },
  {
   "cell_type": "markdown",
   "id": "4bdd5b4b",
   "metadata": {},
   "source": [
    "Accuracy through Logistic Regression on data set is 78%"
   ]
  },
  {
   "cell_type": "markdown",
   "id": "ae715170",
   "metadata": {},
   "source": [
    "# Decision Tree Algo"
   ]
  },
  {
   "cell_type": "code",
   "execution_count": 54,
   "id": "04c69792",
   "metadata": {},
   "outputs": [],
   "source": [
    "#now we will perform the data set with Decision tree classifier\n",
    "from sklearn.tree import DecisionTreeClassifier"
   ]
  },
  {
   "cell_type": "code",
   "execution_count": 55,
   "id": "88e08f7f",
   "metadata": {},
   "outputs": [
    {
     "name": "stdout",
     "output_type": "stream",
     "text": [
      "              precision    recall  f1-score   support\n",
      "\n",
      "           0       0.54      0.96      0.69      1450\n",
      "           1       0.82      0.17      0.29      1450\n",
      "\n",
      "    accuracy                           0.57      2900\n",
      "   macro avg       0.68      0.57      0.49      2900\n",
      "weighted avg       0.68      0.57      0.49      2900\n",
      "\n",
      "[[1396   54]\n",
      " [1200  250]]\n"
     ]
    }
   ],
   "source": [
    "#create the object of DecisionTreeClassifier class\n",
    "dt=DecisionTreeClassifier(random_state=1) #bydefault Gini index\n",
    "#call function\n",
    "dt=create_model(dt)"
   ]
  },
  {
   "cell_type": "markdown",
   "id": "be9f6bb9",
   "metadata": {},
   "source": [
    "Accuracy through Decision Tree Algoritm on data set is 57%"
   ]
  },
  {
   "cell_type": "code",
   "execution_count": 56,
   "id": "d17eb91d",
   "metadata": {},
   "outputs": [
    {
     "name": "stdout",
     "output_type": "stream",
     "text": [
      "Information gain: [0.45159893 0.00798188 0.01444108 0.20230254 0.21745135 0.01461983\n",
      " 0.00418138 0.03450314 0.01045427 0.0424656 ]\n"
     ]
    }
   ],
   "source": [
    "#now we will check the information gain from all input\n",
    "IG=dt.feature_importances_ #feature importance inbuilt method of DecisionTreeClassifier\n",
    "print('Information gain:',IG)"
   ]
  },
  {
   "cell_type": "code",
   "execution_count": 57,
   "id": "038d0555",
   "metadata": {},
   "outputs": [
    {
     "data": {
      "text/plain": [
       "Index(['age', 'hypertension', 'heart_disease', 'avg_glucose_level', 'bmi',\n",
       "       'gender', 'ever_married', 'work_type', 'Residence_type',\n",
       "       'smoking_status'],\n",
       "      dtype='object')"
      ]
     },
     "execution_count": 57,
     "metadata": {},
     "output_type": "execute_result"
    }
   ],
   "source": [
    "x.columns"
   ]
  },
  {
   "cell_type": "code",
   "execution_count": 58,
   "id": "2ce8e0d2",
   "metadata": {},
   "outputs": [
    {
     "data": {
      "text/html": [
       "<div>\n",
       "<style scoped>\n",
       "    .dataframe tbody tr th:only-of-type {\n",
       "        vertical-align: middle;\n",
       "    }\n",
       "\n",
       "    .dataframe tbody tr th {\n",
       "        vertical-align: top;\n",
       "    }\n",
       "\n",
       "    .dataframe thead th {\n",
       "        text-align: right;\n",
       "    }\n",
       "</style>\n",
       "<table border=\"1\" class=\"dataframe\">\n",
       "  <thead>\n",
       "    <tr style=\"text-align: right;\">\n",
       "      <th></th>\n",
       "      <th>input</th>\n",
       "      <th>IG</th>\n",
       "    </tr>\n",
       "  </thead>\n",
       "  <tbody>\n",
       "    <tr>\n",
       "      <th>0</th>\n",
       "      <td>age</td>\n",
       "      <td>0.451599</td>\n",
       "    </tr>\n",
       "    <tr>\n",
       "      <th>4</th>\n",
       "      <td>bmi</td>\n",
       "      <td>0.217451</td>\n",
       "    </tr>\n",
       "    <tr>\n",
       "      <th>3</th>\n",
       "      <td>avg_glucose_level</td>\n",
       "      <td>0.202303</td>\n",
       "    </tr>\n",
       "    <tr>\n",
       "      <th>9</th>\n",
       "      <td>smoking_status</td>\n",
       "      <td>0.042466</td>\n",
       "    </tr>\n",
       "    <tr>\n",
       "      <th>7</th>\n",
       "      <td>work_type</td>\n",
       "      <td>0.034503</td>\n",
       "    </tr>\n",
       "    <tr>\n",
       "      <th>5</th>\n",
       "      <td>gender</td>\n",
       "      <td>0.014620</td>\n",
       "    </tr>\n",
       "    <tr>\n",
       "      <th>2</th>\n",
       "      <td>heart_disease</td>\n",
       "      <td>0.014441</td>\n",
       "    </tr>\n",
       "    <tr>\n",
       "      <th>8</th>\n",
       "      <td>Residence_type</td>\n",
       "      <td>0.010454</td>\n",
       "    </tr>\n",
       "    <tr>\n",
       "      <th>1</th>\n",
       "      <td>hypertension</td>\n",
       "      <td>0.007982</td>\n",
       "    </tr>\n",
       "    <tr>\n",
       "      <th>6</th>\n",
       "      <td>ever_married</td>\n",
       "      <td>0.004181</td>\n",
       "    </tr>\n",
       "  </tbody>\n",
       "</table>\n",
       "</div>"
      ],
      "text/plain": [
       "               input        IG\n",
       "0                age  0.451599\n",
       "4                bmi  0.217451\n",
       "3  avg_glucose_level  0.202303\n",
       "9     smoking_status  0.042466\n",
       "7          work_type  0.034503\n",
       "5             gender  0.014620\n",
       "2      heart_disease  0.014441\n",
       "8     Residence_type  0.010454\n",
       "1       hypertension  0.007982\n",
       "6       ever_married  0.004181"
      ]
     },
     "execution_count": 58,
     "metadata": {},
     "output_type": "execute_result"
    }
   ],
   "source": [
    "#create a dictionary\n",
    "dict={'input':x.columns,'IG':IG}\n",
    "df2=pd.DataFrame(dict)\n",
    "df2.sort_values('IG',ascending=False) #Descending order according to information gain"
   ]
  },
  {
   "cell_type": "code",
   "execution_count": 59,
   "id": "9003ae46",
   "metadata": {},
   "outputs": [
    {
     "data": {
      "image/png": "[encoded data removed]",
      "text/plain": [
       "<Figure size 2160x2160 with 1 Axes>"
      ]
     },
     "metadata": {
      "needs_background": "light"
     },
     "output_type": "display_data"
    }
   ],
   "source": [
    "#create Tree\n",
    "from sklearn import tree\n",
    "features=x.columns #input features\n",
    "fig=plt.figure(figsize=(30,30))\n",
    "_=tree.plot_tree(dt,feature_names=features,filled=True)"
   ]
  },
  {
   "cell_type": "markdown",
   "id": "5e6b0727",
   "metadata": {},
   "source": [
    "# Pruning Technique"
   ]
  },
  {
   "cell_type": "markdown",
   "id": "c47d9542",
   "metadata": {},
   "source": [
    "1st Technique is max depth(reduce overfitting): Note: passing parameter value or maximum depth can not greater than 8"
   ]
  },
  {
   "cell_type": "code",
   "execution_count": 60,
   "id": "32cdd6b0",
   "metadata": {},
   "outputs": [],
   "source": [
    "#create the object of DecisionTreeClassifier class and passing the parameter of maxdepth\n",
    "dt1=DecisionTreeClassifier(random_state=1,max_depth=5)"
   ]
  },
  {
   "cell_type": "code",
   "execution_count": 61,
   "id": "06bcffd3",
   "metadata": {},
   "outputs": [
    {
     "name": "stdout",
     "output_type": "stream",
     "text": [
      "              precision    recall  f1-score   support\n",
      "\n",
      "           0       0.76      0.83      0.79      1450\n",
      "           1       0.81      0.74      0.77      1450\n",
      "\n",
      "    accuracy                           0.78      2900\n",
      "   macro avg       0.78      0.78      0.78      2900\n",
      "weighted avg       0.78      0.78      0.78      2900\n",
      "\n",
      "[[1198  252]\n",
      " [ 383 1067]]\n"
     ]
    }
   ],
   "source": [
    "#call in main fucntion\n",
    "dt1=create_model(dt1)"
   ]
  },
  {
   "cell_type": "markdown",
   "id": "55acc71a",
   "metadata": {},
   "source": [
    "Accuracy of the model from Decision Tree Classifier through 1st Purning Technique i.e. maxdepth is 78%."
   ]
  },
  {
   "cell_type": "code",
   "execution_count": 62,
   "id": "ce735ee0",
   "metadata": {},
   "outputs": [
    {
     "data": {
      "image/png": "[encoded data removed]",
      "text/plain": [
       "<Figure size 2160x2160 with 1 Axes>"
      ]
     },
     "metadata": {
      "needs_background": "light"
     },
     "output_type": "display_data"
    }
   ],
   "source": [
    "#create the tree\n",
    "features=x.columns #input features\n",
    "fig=plt.figure(figsize=(30,30))\n",
    "_=tree.plot_tree(dt1,feature_names=features,filled=True)"
   ]
  },
  {
   "cell_type": "code",
   "execution_count": 63,
   "id": "7fb566ab",
   "metadata": {},
   "outputs": [
    {
     "data": {
      "text/html": [
       "<div>\n",
       "<style scoped>\n",
       "    .dataframe tbody tr th:only-of-type {\n",
       "        vertical-align: middle;\n",
       "    }\n",
       "\n",
       "    .dataframe tbody tr th {\n",
       "        vertical-align: top;\n",
       "    }\n",
       "\n",
       "    .dataframe thead th {\n",
       "        text-align: right;\n",
       "    }\n",
       "</style>\n",
       "<table border=\"1\" class=\"dataframe\">\n",
       "  <thead>\n",
       "    <tr style=\"text-align: right;\">\n",
       "      <th></th>\n",
       "      <th>Input</th>\n",
       "      <th>IG</th>\n",
       "    </tr>\n",
       "  </thead>\n",
       "  <tbody>\n",
       "    <tr>\n",
       "      <th>0</th>\n",
       "      <td>age</td>\n",
       "      <td>0.788881</td>\n",
       "    </tr>\n",
       "    <tr>\n",
       "      <th>4</th>\n",
       "      <td>bmi</td>\n",
       "      <td>0.097880</td>\n",
       "    </tr>\n",
       "    <tr>\n",
       "      <th>3</th>\n",
       "      <td>avg_glucose_level</td>\n",
       "      <td>0.072944</td>\n",
       "    </tr>\n",
       "    <tr>\n",
       "      <th>2</th>\n",
       "      <td>heart_disease</td>\n",
       "      <td>0.018107</td>\n",
       "    </tr>\n",
       "    <tr>\n",
       "      <th>7</th>\n",
       "      <td>work_type</td>\n",
       "      <td>0.008411</td>\n",
       "    </tr>\n",
       "    <tr>\n",
       "      <th>6</th>\n",
       "      <td>ever_married</td>\n",
       "      <td>0.007112</td>\n",
       "    </tr>\n",
       "    <tr>\n",
       "      <th>5</th>\n",
       "      <td>gender</td>\n",
       "      <td>0.003481</td>\n",
       "    </tr>\n",
       "    <tr>\n",
       "      <th>8</th>\n",
       "      <td>Residence_type</td>\n",
       "      <td>0.003184</td>\n",
       "    </tr>\n",
       "    <tr>\n",
       "      <th>1</th>\n",
       "      <td>hypertension</td>\n",
       "      <td>0.000000</td>\n",
       "    </tr>\n",
       "    <tr>\n",
       "      <th>9</th>\n",
       "      <td>smoking_status</td>\n",
       "      <td>0.000000</td>\n",
       "    </tr>\n",
       "  </tbody>\n",
       "</table>\n",
       "</div>"
      ],
      "text/plain": [
       "               Input        IG\n",
       "0                age  0.788881\n",
       "4                bmi  0.097880\n",
       "3  avg_glucose_level  0.072944\n",
       "2      heart_disease  0.018107\n",
       "7          work_type  0.008411\n",
       "6       ever_married  0.007112\n",
       "5             gender  0.003481\n",
       "8     Residence_type  0.003184\n",
       "1       hypertension  0.000000\n",
       "9     smoking_status  0.000000"
      ]
     },
     "execution_count": 63,
     "metadata": {},
     "output_type": "execute_result"
    }
   ],
   "source": [
    "#create a dictrony IG information gain \n",
    "IG=dt1.feature_importances_\n",
    "dict={'Input':x.columns,'IG':IG} \n",
    "df2=pd.DataFrame(dict)\n",
    "df2.sort_values('IG',ascending=False) #decending order according to IG\n"
   ]
  },
  {
   "cell_type": "markdown",
   "id": "10154f6f",
   "metadata": {},
   "source": [
    "# 2nd Purning Technique:"
   ]
  },
  {
   "cell_type": "markdown",
   "id": "6e0e6a18",
   "metadata": {},
   "source": [
    "min_samples_leaf"
   ]
  },
  {
   "cell_type": "markdown",
   "id": "8a61cdf0",
   "metadata": {},
   "source": [
    "min_sample_leaf should be minimum 45 not less than 45 and maximum 100 not more than that create object of DecisionTreeClassifier class - leaf node"
   ]
  },
  {
   "cell_type": "code",
   "execution_count": 64,
   "id": "512a788f",
   "metadata": {},
   "outputs": [],
   "source": [
    "dt2=DecisionTreeClassifier(random_state=1,min_samples_leaf=65)"
   ]
  },
  {
   "cell_type": "code",
   "execution_count": 65,
   "id": "335b1883",
   "metadata": {},
   "outputs": [
    {
     "data": {
      "text/plain": [
       "\"#check min_samples_leaf at different levels - by Gini method which is by default\\nfor i in range(45,100,5):\\n    print('Minimum Sample Leaf: ',i)\\n    dt2=DecisionTreeClassifier(random_state=1,min_samples_leaf=i)\\n    #call in function\\n    dt2=create_model(dt2)\""
      ]
     },
     "execution_count": 65,
     "metadata": {},
     "output_type": "execute_result"
    }
   ],
   "source": [
    "'''#check min_samples_leaf at different levels - by Gini method which is by default\n",
    "for i in range(45,100,5):\n",
    "    print('Minimum Sample Leaf: ',i)\n",
    "    dt2=DecisionTreeClassifier(random_state=1,min_samples_leaf=i)\n",
    "    #call in function\n",
    "    dt2=create_model(dt2)'''"
   ]
  },
  {
   "cell_type": "code",
   "execution_count": 66,
   "id": "32adc1a0",
   "metadata": {},
   "outputs": [
    {
     "name": "stdout",
     "output_type": "stream",
     "text": [
      "              precision    recall  f1-score   support\n",
      "\n",
      "           0       0.77      0.73      0.75      1450\n",
      "           1       0.74      0.78      0.76      1450\n",
      "\n",
      "    accuracy                           0.75      2900\n",
      "   macro avg       0.75      0.75      0.75      2900\n",
      "weighted avg       0.75      0.75      0.75      2900\n",
      "\n",
      "[[1055  395]\n",
      " [ 323 1127]]\n"
     ]
    }
   ],
   "source": [
    "dt2=DecisionTreeClassifier(random_state=1,min_samples_leaf=85)\n",
    "#call function\n",
    "dt2=create_model(dt2)"
   ]
  },
  {
   "cell_type": "markdown",
   "id": "192a979e",
   "metadata": {},
   "source": [
    "Accuracy of the model from Decision Tree Classifier through 2nd Purning Technique i.e. minimum sample leaf (Gini) is 75%"
   ]
  },
  {
   "cell_type": "code",
   "execution_count": 67,
   "id": "4102be73",
   "metadata": {},
   "outputs": [
    {
     "data": {
      "text/plain": [
       "\"for i in range(45,100,5):\\n    print('Minimum Sample Leaf: ',i)\\n    dt2=DecisionTreeClassifier(random_state=1,min_samples_leaf=i,criterion='entropy')\\n    #call in function\\n    dt2=create_model(dt2)\""
      ]
     },
     "execution_count": 67,
     "metadata": {},
     "output_type": "execute_result"
    }
   ],
   "source": [
    "#Now we will check minimum sample leaf by entropy method\n",
    "'''for i in range(45,100,5):\n",
    "    print('Minimum Sample Leaf: ',i)\n",
    "    dt2=DecisionTreeClassifier(random_state=1,min_samples_leaf=i,criterion='entropy')\n",
    "    #call in function\n",
    "    dt2=create_model(dt2)'''"
   ]
  },
  {
   "cell_type": "code",
   "execution_count": 68,
   "id": "9e9baeaf",
   "metadata": {},
   "outputs": [
    {
     "name": "stdout",
     "output_type": "stream",
     "text": [
      "              precision    recall  f1-score   support\n",
      "\n",
      "           0       0.73      0.73      0.73      1450\n",
      "           1       0.73      0.73      0.73      1450\n",
      "\n",
      "    accuracy                           0.73      2900\n",
      "   macro avg       0.73      0.73      0.73      2900\n",
      "weighted avg       0.73      0.73      0.73      2900\n",
      "\n",
      "[[1059  391]\n",
      " [ 385 1065]]\n"
     ]
    }
   ],
   "source": [
    "dt2=DecisionTreeClassifier(random_state=1,min_samples_leaf=85,criterion='entropy')\n",
    "#call function\n",
    "dt2=create_model(dt2)"
   ]
  },
  {
   "cell_type": "markdown",
   "id": "2971a3c3",
   "metadata": {},
   "source": [
    "Accuracy of the model from Decision Tree Classifier through 2nd Purning Technique i.e. minimum sample leaf (entropy) is 73%."
   ]
  },
  {
   "cell_type": "markdown",
   "id": "b4fec0b8",
   "metadata": {},
   "source": [
    "# Ensembling Technique"
   ]
  },
  {
   "cell_type": "markdown",
   "id": "484b3ef6",
   "metadata": {},
   "source": [
    "Ensembling Technique means to train the same dataset from multiple algorithm such as Randome Forest Tree. Random Forest Tree is to train the dataset on multiple decisiontreeclassifier algorithm"
   ]
  },
  {
   "cell_type": "markdown",
   "id": "08353746",
   "metadata": {},
   "source": [
    "# RandomForestTree"
   ]
  },
  {
   "cell_type": "code",
   "execution_count": 69,
   "id": "7f50ec64",
   "metadata": {},
   "outputs": [
    {
     "data": {
      "text/plain": [
       "(5110, 10)"
      ]
     },
     "execution_count": 69,
     "metadata": {},
     "output_type": "execute_result"
    }
   ],
   "source": [
    "x.shape"
   ]
  },
  {
   "cell_type": "code",
   "execution_count": 70,
   "id": "35398512",
   "metadata": {},
   "outputs": [],
   "source": [
    "#import RandomForestClassifier class from sklearn library\n",
    "from sklearn.ensemble import RandomForestClassifier"
   ]
  },
  {
   "cell_type": "code",
   "execution_count": 71,
   "id": "9c680302",
   "metadata": {},
   "outputs": [
    {
     "name": "stdout",
     "output_type": "stream",
     "text": [
      "Number of features: \n",
      "              precision    recall  f1-score   support\n",
      "\n",
      "           0       0.51      0.99      0.67      1450\n",
      "           1       0.84      0.04      0.08      1450\n",
      "\n",
      "    accuracy                           0.52      2900\n",
      "   macro avg       0.67      0.52      0.38      2900\n",
      "weighted avg       0.67      0.52      0.38      2900\n",
      "\n",
      "[[1438   12]\n",
      " [1389   61]]\n"
     ]
    }
   ],
   "source": [
    "#for i in range(1,150):\n",
    "rfc=RandomForestClassifier(n_estimators=50)\n",
    "    #it is by default gini method of RFC \n",
    "    #note: entropy will not work here\n",
    "    #call in function\n",
    "print('Number of features: ')\n",
    "##rfc.fit(x_train_ros,y_train_ros)\n",
    "#y_pred=rfc.predict(x_test_ros)\n",
    "#print(classification_report(y_test_ros,y_pred))\n",
    "#print(confusion_matrix(y_test_ros,y_pred))\n",
    "    \n",
    "rfc=create_model(rfc)\n",
    "#n_estimators is the number of decision tree on which we want to check that\n",
    "#the accuracy on how many features it will give \n",
    "#max_features means to take how many no of input\n",
    "#basically we will take all the input "
   ]
  },
  {
   "cell_type": "markdown",
   "id": "b3bc55c9",
   "metadata": {},
   "source": [
    "As we can see Random Forest technique in not working. Because it is not giving any accuracy on the dataset. The accuracy of the model is 51% from Random Forest Technique."
   ]
  },
  {
   "cell_type": "markdown",
   "id": "173e1bde",
   "metadata": {},
   "source": [
    "# Boosting Technique"
   ]
  },
  {
   "cell_type": "markdown",
   "id": "ef867e18",
   "metadata": {},
   "source": [
    "Boosting technique is also type of Ensembling technique."
   ]
  },
  {
   "cell_type": "markdown",
   "id": "4eb8d1bc",
   "metadata": {},
   "source": [
    "As there is 3 types of Boosting Technique.\n",
    "\n",
    "1. ADA Boosting\n",
    "2. Gradient Boosting\n",
    "3. Extreme Gradient Boosting"
   ]
  },
  {
   "cell_type": "markdown",
   "id": "872d2c18",
   "metadata": {},
   "source": [
    "# 1. ADA Boosting: Adaptive boosting"
   ]
  },
  {
   "cell_type": "code",
   "execution_count": 72,
   "id": "d9badc03",
   "metadata": {},
   "outputs": [],
   "source": [
    "#import the AdaBoostClassifier from sklearn library\n",
    "from sklearn.ensemble import AdaBoostClassifier"
   ]
  },
  {
   "cell_type": "code",
   "execution_count": 73,
   "id": "299c2ee2",
   "metadata": {},
   "outputs": [
    {
     "name": "stdout",
     "output_type": "stream",
     "text": [
      "Number of Features:  1\n",
      "              precision    recall  f1-score   support\n",
      "\n",
      "           0       0.92      0.53      0.68      1450\n",
      "           1       0.67      0.96      0.79      1450\n",
      "\n",
      "    accuracy                           0.74      2900\n",
      "   macro avg       0.80      0.74      0.73      2900\n",
      "weighted avg       0.80      0.74      0.73      2900\n",
      "\n",
      "[[ 774  676]\n",
      " [  65 1385]]\n",
      "Number of Features:  2\n",
      "              precision    recall  f1-score   support\n",
      "\n",
      "           0       0.92      0.53      0.68      1450\n",
      "           1       0.67      0.96      0.79      1450\n",
      "\n",
      "    accuracy                           0.74      2900\n",
      "   macro avg       0.80      0.74      0.73      2900\n",
      "weighted avg       0.80      0.74      0.73      2900\n",
      "\n",
      "[[ 774  676]\n",
      " [  65 1385]]\n",
      "Number of Features:  3\n",
      "              precision    recall  f1-score   support\n",
      "\n",
      "           0       0.90      0.57      0.70      1450\n",
      "           1       0.69      0.94      0.79      1450\n",
      "\n",
      "    accuracy                           0.76      2900\n",
      "   macro avg       0.80      0.76      0.75      2900\n",
      "weighted avg       0.80      0.76      0.75      2900\n",
      "\n",
      "[[ 833  617]\n",
      " [  90 1360]]\n",
      "Number of Features:  4\n",
      "              precision    recall  f1-score   support\n",
      "\n",
      "           0       0.90      0.57      0.70      1450\n",
      "           1       0.69      0.94      0.79      1450\n",
      "\n",
      "    accuracy                           0.76      2900\n",
      "   macro avg       0.80      0.76      0.75      2900\n",
      "weighted avg       0.80      0.76      0.75      2900\n",
      "\n",
      "[[ 833  617]\n",
      " [  90 1360]]\n",
      "Number of Features:  5\n",
      "              precision    recall  f1-score   support\n",
      "\n",
      "           0       0.89      0.58      0.70      1450\n",
      "           1       0.69      0.93      0.79      1450\n",
      "\n",
      "    accuracy                           0.75      2900\n",
      "   macro avg       0.79      0.75      0.75      2900\n",
      "weighted avg       0.79      0.75      0.75      2900\n",
      "\n",
      "[[ 839  611]\n",
      " [ 105 1345]]\n",
      "Number of Features:  6\n",
      "              precision    recall  f1-score   support\n",
      "\n",
      "           0       0.89      0.58      0.70      1450\n",
      "           1       0.69      0.93      0.79      1450\n",
      "\n",
      "    accuracy                           0.75      2900\n",
      "   macro avg       0.79      0.75      0.74      2900\n",
      "weighted avg       0.79      0.75      0.74      2900\n",
      "\n",
      "[[ 838  612]\n",
      " [ 105 1345]]\n",
      "Number of Features:  7\n",
      "              precision    recall  f1-score   support\n",
      "\n",
      "           0       0.89      0.58      0.70      1450\n",
      "           1       0.69      0.93      0.79      1450\n",
      "\n",
      "    accuracy                           0.75      2900\n",
      "   macro avg       0.79      0.75      0.75      2900\n",
      "weighted avg       0.79      0.75      0.75      2900\n",
      "\n",
      "[[ 839  611]\n",
      " [ 105 1345]]\n",
      "Number of Features:  8\n",
      "              precision    recall  f1-score   support\n",
      "\n",
      "           0       0.89      0.58      0.70      1450\n",
      "           1       0.69      0.93      0.79      1450\n",
      "\n",
      "    accuracy                           0.75      2900\n",
      "   macro avg       0.79      0.75      0.75      2900\n",
      "weighted avg       0.79      0.75      0.75      2900\n",
      "\n",
      "[[ 839  611]\n",
      " [ 105 1345]]\n",
      "Number of Features:  9\n",
      "              precision    recall  f1-score   support\n",
      "\n",
      "           0       0.78      0.68      0.73      1450\n",
      "           1       0.72      0.81      0.76      1450\n",
      "\n",
      "    accuracy                           0.74      2900\n",
      "   macro avg       0.75      0.74      0.74      2900\n",
      "weighted avg       0.75      0.74      0.74      2900\n",
      "\n",
      "[[ 984  466]\n",
      " [ 274 1176]]\n"
     ]
    }
   ],
   "source": [
    "#create an object of AdaBoostClassifier\n",
    "for i in range(1,10):\n",
    "    ada=AdaBoostClassifier(random_state=1,n_estimators=i)\n",
    "    #n_estimators is number of features\n",
    "    print('Number of Features: ',i)\n",
    "    #call in class\n",
    "    ada=create_model(ada)"
   ]
  },
  {
   "cell_type": "code",
   "execution_count": 74,
   "id": "2d7fccb9",
   "metadata": {},
   "outputs": [
    {
     "data": {
      "text/plain": [
       "array([0.55555556, 0.        , 0.        , 0.11111111, 0.33333333,\n",
       "       0.        , 0.        , 0.        , 0.        , 0.        ])"
      ]
     },
     "execution_count": 74,
     "metadata": {},
     "output_type": "execute_result"
    }
   ],
   "source": [
    "# Check Information gain of all inputs using inbuilt method \n",
    "# feature_importances_\n",
    "ada.feature_importances_"
   ]
  },
  {
   "cell_type": "code",
   "execution_count": 75,
   "id": "ea5e80a0",
   "metadata": {},
   "outputs": [],
   "source": [
    "#as we can see ada boosting is giving the accuracy with 1 features\n",
    "#so we will take the first one which is Number of features : 1"
   ]
  },
  {
   "cell_type": "code",
   "execution_count": 76,
   "id": "20788638",
   "metadata": {},
   "outputs": [
    {
     "data": {
      "text/html": [
       "<div>\n",
       "<style scoped>\n",
       "    .dataframe tbody tr th:only-of-type {\n",
       "        vertical-align: middle;\n",
       "    }\n",
       "\n",
       "    .dataframe tbody tr th {\n",
       "        vertical-align: top;\n",
       "    }\n",
       "\n",
       "    .dataframe thead th {\n",
       "        text-align: right;\n",
       "    }\n",
       "</style>\n",
       "<table border=\"1\" class=\"dataframe\">\n",
       "  <thead>\n",
       "    <tr style=\"text-align: right;\">\n",
       "      <th></th>\n",
       "      <th>Input</th>\n",
       "      <th>IG</th>\n",
       "    </tr>\n",
       "  </thead>\n",
       "  <tbody>\n",
       "    <tr>\n",
       "      <th>0</th>\n",
       "      <td>age</td>\n",
       "      <td>0.555556</td>\n",
       "    </tr>\n",
       "    <tr>\n",
       "      <th>4</th>\n",
       "      <td>bmi</td>\n",
       "      <td>0.333333</td>\n",
       "    </tr>\n",
       "    <tr>\n",
       "      <th>3</th>\n",
       "      <td>avg_glucose_level</td>\n",
       "      <td>0.111111</td>\n",
       "    </tr>\n",
       "    <tr>\n",
       "      <th>1</th>\n",
       "      <td>hypertension</td>\n",
       "      <td>0.000000</td>\n",
       "    </tr>\n",
       "    <tr>\n",
       "      <th>2</th>\n",
       "      <td>heart_disease</td>\n",
       "      <td>0.000000</td>\n",
       "    </tr>\n",
       "    <tr>\n",
       "      <th>5</th>\n",
       "      <td>gender</td>\n",
       "      <td>0.000000</td>\n",
       "    </tr>\n",
       "    <tr>\n",
       "      <th>6</th>\n",
       "      <td>ever_married</td>\n",
       "      <td>0.000000</td>\n",
       "    </tr>\n",
       "    <tr>\n",
       "      <th>7</th>\n",
       "      <td>work_type</td>\n",
       "      <td>0.000000</td>\n",
       "    </tr>\n",
       "    <tr>\n",
       "      <th>8</th>\n",
       "      <td>Residence_type</td>\n",
       "      <td>0.000000</td>\n",
       "    </tr>\n",
       "    <tr>\n",
       "      <th>9</th>\n",
       "      <td>smoking_status</td>\n",
       "      <td>0.000000</td>\n",
       "    </tr>\n",
       "  </tbody>\n",
       "</table>\n",
       "</div>"
      ],
      "text/plain": [
       "               Input        IG\n",
       "0                age  0.555556\n",
       "4                bmi  0.333333\n",
       "3  avg_glucose_level  0.111111\n",
       "1       hypertension  0.000000\n",
       "2      heart_disease  0.000000\n",
       "5             gender  0.000000\n",
       "6       ever_married  0.000000\n",
       "7          work_type  0.000000\n",
       "8     Residence_type  0.000000\n",
       "9     smoking_status  0.000000"
      ]
     },
     "execution_count": 76,
     "metadata": {},
     "output_type": "execute_result"
    }
   ],
   "source": [
    "# Show information gain of all inputs.\n",
    "IG=ada.feature_importances_\n",
    "dict={'Input':x.columns,'IG':IG}\n",
    "df1=pd.DataFrame(dict)\n",
    "df1.sort_values('IG',ascending=False)"
   ]
  },
  {
   "cell_type": "code",
   "execution_count": 77,
   "id": "8fbd3475",
   "metadata": {},
   "outputs": [
    {
     "name": "stdout",
     "output_type": "stream",
     "text": [
      "              precision    recall  f1-score   support\n",
      "\n",
      "           0       0.92      0.53      0.68      1450\n",
      "           1       0.67      0.96      0.79      1450\n",
      "\n",
      "    accuracy                           0.74      2900\n",
      "   macro avg       0.80      0.74      0.73      2900\n",
      "weighted avg       0.80      0.74      0.73      2900\n",
      "\n",
      "[[ 774  676]\n",
      " [  65 1385]]\n"
     ]
    }
   ],
   "source": [
    "ada=AdaBoostClassifier(random_state=1,n_estimators=1)\n",
    "ada=create_model(ada)"
   ]
  },
  {
   "cell_type": "markdown",
   "id": "9bf0bd70",
   "metadata": {},
   "source": [
    "Accuracy through ADA Boosting on data set is 74%."
   ]
  },
  {
   "cell_type": "markdown",
   "id": "45ba5d73",
   "metadata": {},
   "source": [
    "# 2. Gradient Boosting"
   ]
  },
  {
   "cell_type": "code",
   "execution_count": 78,
   "id": "1b63a40d",
   "metadata": {},
   "outputs": [],
   "source": [
    "#import the AdaBoostClassifier from sklearn library\n",
    "from sklearn.ensemble import GradientBoostingClassifier"
   ]
  },
  {
   "cell_type": "code",
   "execution_count": 79,
   "id": "ed0a4a2f",
   "metadata": {},
   "outputs": [
    {
     "data": {
      "text/plain": [
       "\"for i in range(1,100):\\n    gbc=GradientBoostingClassifier(random_state=1,n_estimators=i)\\n    print('Number of Decision Tree by Gradient: ',i)\\n    gbc=create_model(gbc)\""
      ]
     },
     "execution_count": 79,
     "metadata": {},
     "output_type": "execute_result"
    }
   ],
   "source": [
    "#create an object of GradientBoostingClassifier\n",
    "'''for i in range(1,100):\n",
    "    gbc=GradientBoostingClassifier(random_state=1,n_estimators=i)\n",
    "    print('Number of Decision Tree by Gradient: ',i)\n",
    "    gbc=create_model(gbc)'''"
   ]
  },
  {
   "cell_type": "code",
   "execution_count": 80,
   "id": "03255753",
   "metadata": {},
   "outputs": [
    {
     "name": "stdout",
     "output_type": "stream",
     "text": [
      "              precision    recall  f1-score   support\n",
      "\n",
      "           0       0.89      0.62      0.73      1450\n",
      "           1       0.71      0.92      0.80      1450\n",
      "\n",
      "    accuracy                           0.77      2900\n",
      "   macro avg       0.80      0.77      0.77      2900\n",
      "weighted avg       0.80      0.77      0.77      2900\n",
      "\n",
      "[[ 901  549]\n",
      " [ 109 1341]]\n"
     ]
    }
   ],
   "source": [
    "#01    0=62 and 1=92\n",
    "#create an object of GradientBoostingClassifier\n",
    "gbc=GradientBoostingClassifier(random_state=1,n_estimators=1)\n",
    "gbc=create_model(gbc)"
   ]
  },
  {
   "cell_type": "markdown",
   "id": "05f35bf0",
   "metadata": {},
   "source": [
    "Accuracy through Gradient Boosting on data set is 77%"
   ]
  },
  {
   "cell_type": "markdown",
   "id": "16e5538c",
   "metadata": {},
   "source": [
    "# 3. Extreme Gradient Boosting"
   ]
  },
  {
   "cell_type": "markdown",
   "id": "ff87ee14",
   "metadata": {},
   "source": [
    "Extreme Gradient Boosting : XG Boosting It is the 3rd technique of Boosting. This is also a better version of Gradient Boosting, becuase of below mention reasons.\n",
    "\n",
    "1. XGB uses Multithreading technique.\n",
    "2. XGB occupy less space in memory and much more faster than GB.\n",
    "3. XGB is very useful to handle large amount of data.\n",
    "4. XGB also handle outlier, because XGB have inbilt capability to handle the same.\n",
    "5. XGB also handle null values.\n",
    "6. XGB also handle automatic overfitting situation."
   ]
  },
  {
   "cell_type": "code",
   "execution_count": 81,
   "id": "57455def",
   "metadata": {},
   "outputs": [],
   "source": [
    "#!pip install xgboost"
   ]
  },
  {
   "cell_type": "code",
   "execution_count": 82,
   "id": "e228600d",
   "metadata": {},
   "outputs": [],
   "source": [
    "#XGB has the seperate library\n",
    "from xgboost import XGBClassifier"
   ]
  },
  {
   "cell_type": "code",
   "execution_count": 83,
   "id": "0ca7f7a2",
   "metadata": {},
   "outputs": [
    {
     "data": {
      "text/plain": [
       "\"\\nfor i in range(1,101):\\n    #create an object of XGBClassifer\\n    xgbc=XGBClassifier(n_estimators=i,random_state=1,reg_alpha=1)\\n    print('Number of Decision Tree by XGBoosting: ',i)\\n    #call in function\\n    xgbc=create_model(xgbc)\""
      ]
     },
     "execution_count": 83,
     "metadata": {},
     "output_type": "execute_result"
    }
   ],
   "source": [
    "'''\n",
    "for i in range(1,101):\n",
    "    #create an object of XGBClassifer\n",
    "    xgbc=XGBClassifier(n_estimators=i,random_state=1,reg_alpha=1)\n",
    "    print('Number of Decision Tree by XGBoosting: ',i)\n",
    "    #call in function\n",
    "    xgbc=create_model(xgbc)'''"
   ]
  },
  {
   "cell_type": "code",
   "execution_count": 84,
   "id": "676ad2ca",
   "metadata": {},
   "outputs": [
    {
     "name": "stdout",
     "output_type": "stream",
     "text": [
      "              precision    recall  f1-score   support\n",
      "\n",
      "           0       0.79      0.70      0.74      1450\n",
      "           1       0.73      0.81      0.77      1450\n",
      "\n",
      "    accuracy                           0.76      2900\n",
      "   macro avg       0.76      0.76      0.76      2900\n",
      "weighted avg       0.76      0.76      0.76      2900\n",
      "\n",
      "[[1021  429]\n",
      " [ 277 1173]]\n"
     ]
    }
   ],
   "source": [
    "# Number of Decision Tree by XGBoosting:  1\n",
    "#0=72 and 1=81\n",
    "#create an object of XGBClassifier\n",
    "xgbc=XGBClassifier(n_estimators=1,random_state=1,reg_alpha=1)\n",
    "xgbc=create_model(xgbc)"
   ]
  },
  {
   "cell_type": "markdown",
   "id": "93c53b68",
   "metadata": {},
   "source": [
    "Accuracy through Extreme Gradient Boosting on data set is 76%"
   ]
  },
  {
   "cell_type": "markdown",
   "id": "0601fc39",
   "metadata": {},
   "source": [
    "# Support Vector Machine"
   ]
  },
  {
   "cell_type": "markdown",
   "id": "eeae9970",
   "metadata": {},
   "source": [
    "Support Vector Machine is a classification supervised machine learning Algorithm.\n",
    "\n",
    "There are various kernel functions:\n",
    "\n",
    "1. Linear Kernel Function ( use Linear seperated Data)\n",
    "2. Polynomial Kernel Function ( use non-linearly)\n",
    "3. Radial Basis Kernel function ( use non-linearly"
   ]
  },
  {
   "cell_type": "markdown",
   "id": "1ebcf664",
   "metadata": {},
   "source": [
    "# 1. Linear Kernel Function ( use Linear seperated Data)"
   ]
  },
  {
   "cell_type": "markdown",
   "id": "e11a3e5f",
   "metadata": {},
   "source": [
    "Linear Kernel or linear seperated data means data are easily seperatable with the help of straight line. This straight line is called Decision Boundry or Hyperplane"
   ]
  },
  {
   "cell_type": "code",
   "execution_count": 85,
   "id": "84130743",
   "metadata": {},
   "outputs": [],
   "source": [
    "#import support vector classifier from sklearn library\n",
    "from sklearn.svm import LinearSVC"
   ]
  },
  {
   "cell_type": "code",
   "execution_count": 86,
   "id": "0dbf434d",
   "metadata": {},
   "outputs": [],
   "source": [
    "# create an object of SVC it would be hard margin bydefault\n",
    "svc=LinearSVC(random_state=1)"
   ]
  },
  {
   "cell_type": "code",
   "execution_count": 87,
   "id": "4a825db5",
   "metadata": {},
   "outputs": [
    {
     "name": "stdout",
     "output_type": "stream",
     "text": [
      "              precision    recall  f1-score   support\n",
      "\n",
      "           0       0.81      0.72      0.76      1450\n",
      "           1       0.74      0.83      0.78      1450\n",
      "\n",
      "    accuracy                           0.77      2900\n",
      "   macro avg       0.78      0.77      0.77      2900\n",
      "weighted avg       0.78      0.77      0.77      2900\n",
      "\n",
      "[[1038  412]\n",
      " [ 247 1203]]\n"
     ]
    }
   ],
   "source": [
    "svc=create_model(svc)"
   ]
  },
  {
   "cell_type": "markdown",
   "id": "3e408b02",
   "metadata": {},
   "source": [
    "Accuracy of the model from Support Vector Machine through Linear Kernel Function (Hard Margin) is 77%."
   ]
  },
  {
   "cell_type": "code",
   "execution_count": 88,
   "id": "00a78fcd",
   "metadata": {},
   "outputs": [],
   "source": [
    "#now will have to check outlier because model can be overfit even if accuracy is good it it has outlier also.\n",
    "#also need to check whether model is over fit or not means need to add extra error during training themodel.\n",
    "#that means we need to apply soft margin\n",
    "#create the object of inbuilt class Linear SVC and passing the error through parameter C\n",
    "svc1=LinearSVC(random_state=1,C=0.001) #soft margin\n",
    "#C is inbuilt marameter which pass the value (0.001 to 1)"
   ]
  },
  {
   "cell_type": "code",
   "execution_count": 89,
   "id": "2a433a80",
   "metadata": {},
   "outputs": [
    {
     "name": "stdout",
     "output_type": "stream",
     "text": [
      "              precision    recall  f1-score   support\n",
      "\n",
      "           0       0.84      0.71      0.77      1450\n",
      "           1       0.75      0.86      0.80      1450\n",
      "\n",
      "    accuracy                           0.78      2900\n",
      "   macro avg       0.79      0.78      0.78      2900\n",
      "weighted avg       0.79      0.78      0.78      2900\n",
      "\n",
      "[[1027  423]\n",
      " [ 201 1249]]\n"
     ]
    }
   ],
   "source": [
    "svc1=create_model(svc1)"
   ]
  },
  {
   "cell_type": "markdown",
   "id": "ee6fb2b7",
   "metadata": {},
   "source": [
    "Accuracy of the model from Support Vector Machine through Linear Kernel Function (Soft Margin) is 78%."
   ]
  },
  {
   "cell_type": "code",
   "execution_count": 90,
   "id": "74d18618",
   "metadata": {},
   "outputs": [],
   "source": [
    "#if add external error during training time , no changes in score(recall)\n",
    "#means data is non-linear\n",
    "#can be possible , dataset is not linear means dataset is non-linear  .\n",
    "#use Non-linear Kernel function of SVM means 2 classes are not separatable \n",
    "#with straight line \n",
    "#There are 3 types of Kernel function of SVM\n",
    "#1. Linear SVC  : use for linear data\n",
    "#2. polynomial Kernel function : increase the low dimension to high dimension\n",
    "#3. radial basis Kernel function"
   ]
  },
  {
   "cell_type": "markdown",
   "id": "2b46685e",
   "metadata": {},
   "source": [
    "# 2. polynomial Kernel function :"
   ]
  },
  {
   "cell_type": "markdown",
   "id": "0a11d7a9",
   "metadata": {},
   "source": [
    "Increase the low dimension to high dimension"
   ]
  },
  {
   "cell_type": "code",
   "execution_count": 91,
   "id": "4287f347",
   "metadata": {},
   "outputs": [],
   "source": [
    "#2. polynomial Kernel function\n",
    "from sklearn.svm import SVC\n",
    "#svc inbuilt class for non linear data (poly adn radial basis)"
   ]
  },
  {
   "cell_type": "code",
   "execution_count": 92,
   "id": "86067e71",
   "metadata": {},
   "outputs": [],
   "source": [
    "#create object of svc clas (for polynomial)\n",
    "poly_svc=SVC(random_state=1,kernel='poly')"
   ]
  },
  {
   "cell_type": "code",
   "execution_count": 93,
   "id": "34736e2c",
   "metadata": {},
   "outputs": [
    {
     "name": "stdout",
     "output_type": "stream",
     "text": [
      "              precision    recall  f1-score   support\n",
      "\n",
      "           0       0.64      0.81      0.72      1450\n",
      "           1       0.74      0.55      0.63      1450\n",
      "\n",
      "    accuracy                           0.68      2900\n",
      "   macro avg       0.69      0.68      0.67      2900\n",
      "weighted avg       0.69      0.68      0.67      2900\n",
      "\n",
      "[[1177  273]\n",
      " [ 656  794]]\n"
     ]
    }
   ],
   "source": [
    "#call the function\n",
    "poly_svc=create_model(poly_svc)"
   ]
  },
  {
   "cell_type": "markdown",
   "id": "1dfc8d7a",
   "metadata": {},
   "source": [
    "Accuracy of the model from Support Vector Machine through Polynomial Kernel Function is 68%."
   ]
  },
  {
   "cell_type": "markdown",
   "id": "8d8a8757",
   "metadata": {},
   "source": [
    "# 3. Radial Basis Kernel function :"
   ]
  },
  {
   "cell_type": "code",
   "execution_count": 94,
   "id": "60eae74d",
   "metadata": {
    "scrolled": true
   },
   "outputs": [
    {
     "name": "stdout",
     "output_type": "stream",
     "text": [
      "              precision    recall  f1-score   support\n",
      "\n",
      "           0       0.64      0.79      0.71      1450\n",
      "           1       0.73      0.56      0.63      1450\n",
      "\n",
      "    accuracy                           0.68      2900\n",
      "   macro avg       0.68      0.68      0.67      2900\n",
      "weighted avg       0.68      0.68      0.67      2900\n",
      "\n",
      "[[1142  308]\n",
      " [ 633  817]]\n"
     ]
    }
   ],
   "source": [
    "#here we use non-linear : radial basis Kernel function\n",
    "#create object of svc class (for radial-basis)\n",
    "r_svc=SVC(random_state=1,kernel='rbf')#rbf means radial basis function\n",
    "#call the function\n",
    "r_svc=create_model(r_svc)"
   ]
  },
  {
   "cell_type": "markdown",
   "id": "063c8233",
   "metadata": {},
   "source": [
    "Accuracy of the model from Support Vector Machine through Radial Basis Kernel Function is 68%."
   ]
  },
  {
   "cell_type": "markdown",
   "id": "b66e79cb",
   "metadata": {},
   "source": [
    "# KNN Algorithm"
   ]
  },
  {
   "cell_type": "code",
   "execution_count": 95,
   "id": "339b2e9e",
   "metadata": {},
   "outputs": [],
   "source": [
    "#use KNN Algorithm\n",
    "from sklearn.neighbors import KNeighborsClassifier"
   ]
  },
  {
   "cell_type": "code",
   "execution_count": 96,
   "id": "f4b48ece",
   "metadata": {},
   "outputs": [],
   "source": [
    "#create object\n",
    "knc=KNeighborsClassifier(n_neighbors=5,metric='minkowski',p=2)"
   ]
  },
  {
   "cell_type": "code",
   "execution_count": 97,
   "id": "9120e241",
   "metadata": {},
   "outputs": [
    {
     "name": "stdout",
     "output_type": "stream",
     "text": [
      "              precision    recall  f1-score   support\n",
      "\n",
      "           0       0.52      0.90      0.66      1450\n",
      "           1       0.64      0.18      0.28      1450\n",
      "\n",
      "    accuracy                           0.54      2900\n",
      "   macro avg       0.58      0.54      0.47      2900\n",
      "weighted avg       0.58      0.54      0.47      2900\n",
      "\n",
      "[[1301  149]\n",
      " [1188  262]]\n"
     ]
    }
   ],
   "source": [
    "#call function\n",
    "knc=create_model(knc)"
   ]
  },
  {
   "cell_type": "markdown",
   "id": "5df13ef3",
   "metadata": {},
   "source": [
    "Accuracy of KNN model is 54%."
   ]
  },
  {
   "cell_type": "markdown",
   "id": "1be2016d",
   "metadata": {},
   "source": [
    "# Naive Bayes Classifier"
   ]
  },
  {
   "cell_type": "markdown",
   "id": "2495eda1",
   "metadata": {},
   "source": [
    "Here we will apply Gaussian Naive Bayes classifier as we are working on continious value"
   ]
  },
  {
   "cell_type": "code",
   "execution_count": 98,
   "id": "2c8db0e8",
   "metadata": {},
   "outputs": [],
   "source": [
    "from sklearn.naive_bayes import GaussianNB\n",
    "#inbuilt class GaussionNB"
   ]
  },
  {
   "cell_type": "code",
   "execution_count": 99,
   "id": "03505f46",
   "metadata": {},
   "outputs": [],
   "source": [
    "#create object \n",
    "gnb=GaussianNB()"
   ]
  },
  {
   "cell_type": "code",
   "execution_count": 100,
   "id": "e35c5f2f",
   "metadata": {},
   "outputs": [
    {
     "name": "stdout",
     "output_type": "stream",
     "text": [
      "              precision    recall  f1-score   support\n",
      "\n",
      "           0       0.78      0.75      0.77      1450\n",
      "           1       0.76      0.79      0.78      1450\n",
      "\n",
      "    accuracy                           0.77      2900\n",
      "   macro avg       0.77      0.77      0.77      2900\n",
      "weighted avg       0.77      0.77      0.77      2900\n",
      "\n",
      "[[1093  357]\n",
      " [ 304 1146]]\n"
     ]
    }
   ],
   "source": [
    "#call function\n",
    "gnb=create_model(gnb)"
   ]
  },
  {
   "cell_type": "markdown",
   "id": "cc894550",
   "metadata": {},
   "source": [
    "# Summary"
   ]
  },
  {
   "cell_type": "markdown",
   "id": "336cdc36",
   "metadata": {},
   "source": [
    "1. Accuracy through Logistic Regression on data set is 78%.\n",
    "2. Accuracy through Decision Tree Algoritm on data set is 57%.\n",
    "3. Accuracy of the model from Decision Tree Classifier through 1st Purning Technique i.e. maxdepth is 78%.\n",
    "4. Accuracy of the model from Decision Tree Classifier through 2nd Purning Technique i.e. minimum sample leaf (Gini) is 75%.\n",
    "5. Accuracy of the model from Decision Tree Classifier through 2nd Purning Technique i.e. minimum sample leaf (entropy) is 73%.\n",
    "6. Accuracy of the model throgh Random Forest Technique is 51%.\n",
    "7. Accuracy through ADA Boosting on data set is 74%.\n",
    "8. Accuracy through Gradient Boosting on data set is 77%.\n",
    "9. Accuracy through Extreme Gradient Boosting on data set is 76%.\n",
    "10. Accuracy of the model from Support Vector Machine through Linear Kernel Function (Hard Margin) is 77%.\n",
    "11. Accuracy of the model from Support Vector Machine through Linear Kernel Function (Soft Margin) is 78%.\n",
    "12. Accuracy of the model from Support Vector Machine through Polynomial Kernel Function is 68%.\n",
    "13. Accuracy of the model from Support Vector Machine through Radial Basis Kernel Function is 68%.\n",
    "14. Accuracy through KNN model is 54%.\n",
    "15. Accuracy through Naive Bayes Classifier is 77%."
   ]
  },
  {
   "cell_type": "markdown",
   "id": "ffbbe57e",
   "metadata": {},
   "source": [
    "# Final Conclusion"
   ]
  },
  {
   "cell_type": "markdown",
   "id": "13a20d2b",
   "metadata": {},
   "source": [
    "Logistic Regression, max_depth purning technique of decision tree classifier and Linear kernel Function (soft margin) of Support vector machine is the best algoritim to predict the strock for the data set as the accuracy of all 3 algoritm is 78%."
   ]
  }
 ],
 "metadata": {
  "kernelspec": {
   "display_name": "Python 3 (ipykernel)",
   "language": "python",
   "name": "python3"
  },
  "language_info": {
   "codemirror_mode": {
    "name": "ipython",
    "version": 3
   },
   "file_extension": ".py",
   "mimetype": "text/x-python",
   "name": "python",
   "nbconvert_exporter": "python",
   "pygments_lexer": "ipython3",
   "version": "3.9.12"
  }
 },
 "nbformat": 4,
 "nbformat_minor": 5
}
